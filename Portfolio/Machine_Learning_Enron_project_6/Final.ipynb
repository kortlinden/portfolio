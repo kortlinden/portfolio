{
 "cells": [
  {
   "cell_type": "markdown",
   "metadata": {},
   "source": [
    "Enron email analysis final project Udacity Intro to Machine Learning for Data Analysis by Kort Linden\n",
    " \n",
    "Enron was an enromus company with profits that never stopped going up.  The problems was it was a house of cards built with shell companies and profits based on nothing but paper.  The scandle reached many people and I will play dectective by comparing known POIs (persons of interest) and their corresponding features to the features of a corpus of enron employees. I will read in the data, explore it for outliers, clean it, create new features from the existing features using a formula and then run various classifiers from the sklearn package.  "
   ]
  },
  {
   "cell_type": "code",
   "execution_count": 1,
   "metadata": {},
   "outputs": [
    {
     "name": "stderr",
     "output_type": "stream",
     "text": [
      "/anaconda/lib/python2.7/site-packages/sklearn/cross_validation.py:41: DeprecationWarning: This module was deprecated in version 0.18 in favor of the model_selection module into which all the refactored classes and functions are moved. Also note that the interface of the new CV iterators are different from that of this module. This module will be removed in 0.20.\n",
      "  \"This module will be removed in 0.20.\", DeprecationWarning)\n",
      "/anaconda/lib/python2.7/site-packages/sklearn/grid_search.py:42: DeprecationWarning: This module was deprecated in version 0.18 in favor of the model_selection module into which all the refactored classes and functions are moved. This module will be removed in 0.20.\n",
      "  DeprecationWarning)\n",
      "/anaconda/lib/python2.7/site-packages/ggplot/utils.py:81: FutureWarning: pandas.tslib is deprecated and will be removed in a future version.\n",
      "You can access Timestamp as pandas.Timestamp\n",
      "  pd.tslib.Timestamp,\n",
      "/anaconda/lib/python2.7/site-packages/ggplot/stats/smoothers.py:4: FutureWarning: The pandas.lib module is deprecated and will be removed in a future version. These are private functions and can be accessed from pandas._libs.lib instead\n",
      "  from pandas.lib import Timestamp\n",
      "/anaconda/lib/python2.7/site-packages/statsmodels/compat/pandas.py:56: FutureWarning: The pandas.core.datetools module is deprecated and will be removed in a future version. Please use the pandas.tseries module instead.\n",
      "  from pandas.core import datetools\n"
     ]
    }
   ],
   "source": [
    "#!/usr/bin/python\n",
    "\n",
    "import matplotlib.pyplot as plt\n",
    "import sys\n",
    "import numpy\n",
    "import pickle\n",
    "from sklearn import preprocessing\n",
    "from time import time\n",
    "from sklearn.naive_bayes import GaussianNB\n",
    "from sklearn.metrics import accuracy_score\n",
    "from sklearn.metrics import precision_score\n",
    "from sklearn.metrics import recall_score\n",
    "from sklearn.grid_search import GridSearchCV\n",
    "import pandas\n",
    "\n",
    "import sklearn\n",
    "from ggplot import *\n",
    "import matplotlib\n",
    "%matplotlib inline\n",
    "sys.path.append(\"../tools/\")\n",
    "\n",
    "\n",
    "from feature_format import featureFormat\n",
    "from feature_format import targetFeatureSplit\n",
    "\n",
    "\n",
    "### features_list is a list of strings, each of which is a feature name\n",
    "### first feature must be \"poi\", as this will be singled out as the label\n",
    "\n",
    "###People will be sorted by poi"
   ]
  },
  {
   "cell_type": "markdown",
   "metadata": {},
   "source": [
    "I will now create my features list and add the names for the new features I will be creating. "
   ]
  },
  {
   "cell_type": "code",
   "execution_count": 2,
   "metadata": {
    "collapsed": true
   },
   "outputs": [],
   "source": [
    "\n",
    "### I'm looking for a feature most realted to POI's\n",
    "\n",
    "# The financial features may be related to in some combination to illegal payments to POIs.\n",
    "\n",
    "features_list = ['poi', 'salary', 'to_messages', 'deferral_payments', 'total_payments', \n",
    "                 'loan_advances', 'bonus', 'restricted_stock_deferred', \n",
    "                 'deferred_income', 'total_stock_value', 'expenses', 'from_poi_to_this_person', \n",
    "                 'exercised_stock_options', 'from_messages', 'other', 'from_this_person_to_poi', \n",
    "                 'long_term_incentive', 'shared_receipt_with_poi', 'restricted_stock', 'ratio_to_poi', 'ratio_from_poi', 'total_poi_ratio'] \n",
    "\n",
    "\n",
    "NAN_value = 'NaN'"
   ]
  },
  {
   "cell_type": "markdown",
   "metadata": {},
   "source": [
    "Loading the data set. I will remove some outliers I found by using the code I created for the outliers section of this course.  \"Total\" is a spread sheet error, Mr. \"Lockart\" has not data at all and \"The Travel Agency in the park\" is not a person.  Other numerical outliers were identified but were not removed or scaled as they were accurate representations of the entry.  I will then take a cursury look at the data."
   ]
  },
  {
   "cell_type": "code",
   "execution_count": 3,
   "metadata": {},
   "outputs": [
    {
     "name": "stdout",
     "output_type": "stream",
     "text": [
      "143\n",
      "{'salary': 330546, 'to_messages': 3523, 'deferral_payments': 649584, 'total_payments': 2355702, 'exercised_stock_options': 2542813, 'bonus': 900000, 'restricted_stock': 901657, 'shared_receipt_with_poi': 2333, 'restricted_stock_deferred': 'NaN', 'total_stock_value': 3444470, 'expenses': 'NaN', 'loan_advances': 'NaN', 'from_messages': 1053, 'other': 400572, 'from_this_person_to_poi': 71, 'poi': False, 'director_fees': 'NaN', 'deferred_income': -694862, 'long_term_incentive': 769862, 'email_address': 'rick.buy@enron.com', 'from_poi_to_this_person': 156}\n"
     ]
    }
   ],
   "source": [
    "### load the dictionary containing the dataset\n",
    "data_dict = pickle.load(open(\"final_project_dataset.pkl\", \"r\") )\n",
    "data_dict.pop(\"TOTAL\", 0) \n",
    "data_dict.pop('LOCKHART EUGENE E', 0) \n",
    "data_dict.pop('THE TRAVEL AGENCY IN THE PARK', 0)\n",
    "\n",
    "### look at data\n",
    "print len(data_dict.keys())\n",
    "print data_dict['BUY RICHARD B']\n",
    "#print data_dict.values()"
   ]
  },
  {
   "cell_type": "markdown",
   "metadata": {},
   "source": [
    "Now, I will convert to a data frame so I can use pandas to take a look and manipulate the data.\n"
   ]
  },
  {
   "cell_type": "code",
   "execution_count": 5,
   "metadata": {},
   "outputs": [
    {
     "name": "stdout",
     "output_type": "stream",
     "text": [
      "     bonus deferral_payments deferred_income director_fees  \\\n",
      "0   600000               NaN             NaN           NaN   \n",
      "1  1200000           1295738        -1386055           NaN   \n",
      "2   350000               NaN         -400729           NaN   \n",
      "3      NaN               NaN             NaN           NaN   \n",
      "4  1500000               NaN        -3117011           NaN   \n",
      "\n",
      "              email_address exercised_stock_options expenses from_messages  \\\n",
      "0      mark.metts@enron.com                     NaN    94299            29   \n",
      "1                       NaN                 6680544    11200           NaN   \n",
      "2  steven.elliott@enron.com                 4890344    78552           NaN   \n",
      "3     bill.cordes@enron.com                  651850      NaN            12   \n",
      "4    kevin.hannon@enron.com                 5538001    34039            32   \n",
      "\n",
      "  from_poi_to_this_person from_this_person_to_poi        ...         \\\n",
      "0                      38                       1        ...          \n",
      "1                     NaN                     NaN        ...          \n",
      "2                     NaN                     NaN        ...          \n",
      "3                      10                       0        ...          \n",
      "4                      32                      21        ...          \n",
      "\n",
      "  long_term_incentive    other    poi  restricted_stock  \\\n",
      "0                 NaN     1740  False            585062   \n",
      "1             1586055  2660303  False           3942714   \n",
      "2                 NaN    12961  False           1788391   \n",
      "3                 NaN      NaN  False            386335   \n",
      "4             1617011    11350   True            853064   \n",
      "\n",
      "  restricted_stock_deferred  salary shared_receipt_with_poi to_messages  \\\n",
      "0                       NaN  365788                     702         807   \n",
      "1                       NaN  267102                     NaN         NaN   \n",
      "2                       NaN  170941                     NaN         NaN   \n",
      "3                       NaN     NaN                      58         764   \n",
      "4                       NaN  243293                    1035        1045   \n",
      "\n",
      "  total_payments total_stock_value  \n",
      "0        1061827            585062  \n",
      "1        5634343          10623258  \n",
      "2         211725           6678735  \n",
      "3            NaN           1038185  \n",
      "4         288682           6391065  \n",
      "\n",
      "[5 rows x 21 columns]\n"
     ]
    }
   ],
   "source": [
    "df = pandas.DataFrame.from_records(list(data_dict.values()))\n",
    "print df.head()"
   ]
  },
  {
   "cell_type": "markdown",
   "metadata": {},
   "source": [
    "I see alot of NaN values so first I will convert them for better use with with my algorythms.  I will then filter out columns that have more than 65 NaN values.  The reason I did this is because I tested it with the variable that have more than 120 NaNs and this was not sufficient to reach my targed recall and precision. I also came back to this section to filter out 'director_fees\" category since the decision tree ranked it as the least important feature. Then, I will print out the list count to see if there are more NaN values."
   ]
  },
  {
   "cell_type": "code",
   "execution_count": 6,
   "metadata": {},
   "outputs": [
    {
     "name": "stdout",
     "output_type": "stream",
     "text": [
      "bonus                         62\n",
      "deferral_payments            105\n",
      "deferred_income               95\n",
      "director_fees                127\n",
      "email_address                 32\n",
      "exercised_stock_options       42\n",
      "expenses                      49\n",
      "from_messages                 57\n",
      "from_poi_to_this_person       57\n",
      "from_this_person_to_poi       57\n",
      "loan_advances                140\n",
      "long_term_incentive           78\n",
      "other                         52\n",
      "poi                            0\n",
      "restricted_stock              34\n",
      "restricted_stock_deferred    126\n",
      "salary                        49\n",
      "shared_receipt_with_poi       57\n",
      "to_messages                   57\n",
      "total_payments                20\n",
      "total_stock_value             18\n",
      "dtype: int64\n",
      "(143, 21)\n",
      "bonus                      0\n",
      "exercised_stock_options    0\n",
      "expenses                   0\n",
      "from_messages              0\n",
      "from_poi_to_this_person    0\n",
      "from_this_person_to_poi    0\n",
      "other                      0\n",
      "poi                        0\n",
      "restricted_stock           0\n",
      "salary                     0\n",
      "shared_receipt_with_poi    0\n",
      "to_messages                0\n",
      "total_payments             0\n",
      "total_stock_value          0\n",
      "dtype: int64\n",
      "       bonus  exercised_stock_options  expenses  from_messages  \\\n",
      "0   600000.0                      0.0   94299.0           29.0   \n",
      "1  1200000.0                6680544.0   11200.0            0.0   \n",
      "2   350000.0                4890344.0   78552.0            0.0   \n",
      "3        0.0                 651850.0       0.0           12.0   \n",
      "4  1500000.0                5538001.0   34039.0           32.0   \n",
      "\n",
      "   from_poi_to_this_person  from_this_person_to_poi      other    poi  \\\n",
      "0                     38.0                      1.0     1740.0  False   \n",
      "1                      0.0                      0.0  2660303.0  False   \n",
      "2                      0.0                      0.0    12961.0  False   \n",
      "3                     10.0                      0.0        0.0  False   \n",
      "4                     32.0                     21.0    11350.0   True   \n",
      "\n",
      "   restricted_stock    salary  shared_receipt_with_poi  to_messages  \\\n",
      "0          585062.0  365788.0                    702.0        807.0   \n",
      "1         3942714.0  267102.0                      0.0          0.0   \n",
      "2         1788391.0  170941.0                      0.0          0.0   \n",
      "3          386335.0       0.0                     58.0        764.0   \n",
      "4          853064.0  243293.0                   1035.0       1045.0   \n",
      "\n",
      "   total_payments  total_stock_value  \n",
      "0       1061827.0           585062.0  \n",
      "1       5634343.0         10623258.0  \n",
      "2        211725.0          6678735.0  \n",
      "3             0.0          1038185.0  \n",
      "4        288682.0          6391065.0  \n"
     ]
    },
    {
     "data": {
      "text/html": [
       "<div>\n",
       "<style>\n",
       "    .dataframe thead tr:only-child th {\n",
       "        text-align: right;\n",
       "    }\n",
       "\n",
       "    .dataframe thead th {\n",
       "        text-align: left;\n",
       "    }\n",
       "\n",
       "    .dataframe tbody tr th {\n",
       "        vertical-align: top;\n",
       "    }\n",
       "</style>\n",
       "<table border=\"1\" class=\"dataframe\">\n",
       "  <thead>\n",
       "    <tr style=\"text-align: right;\">\n",
       "      <th></th>\n",
       "      <th>bonus</th>\n",
       "      <th>exercised_stock_options</th>\n",
       "      <th>expenses</th>\n",
       "      <th>from_messages</th>\n",
       "      <th>from_poi_to_this_person</th>\n",
       "      <th>from_this_person_to_poi</th>\n",
       "      <th>other</th>\n",
       "      <th>restricted_stock</th>\n",
       "      <th>salary</th>\n",
       "      <th>shared_receipt_with_poi</th>\n",
       "      <th>to_messages</th>\n",
       "      <th>total_payments</th>\n",
       "      <th>total_stock_value</th>\n",
       "    </tr>\n",
       "  </thead>\n",
       "  <tbody>\n",
       "    <tr>\n",
       "      <th>count</th>\n",
       "      <td>1.430000e+02</td>\n",
       "      <td>1.430000e+02</td>\n",
       "      <td>143.000000</td>\n",
       "      <td>143.000000</td>\n",
       "      <td>143.000000</td>\n",
       "      <td>143.000000</td>\n",
       "      <td>1.430000e+02</td>\n",
       "      <td>1.430000e+02</td>\n",
       "      <td>1.430000e+02</td>\n",
       "      <td>143.000000</td>\n",
       "      <td>143.000000</td>\n",
       "      <td>1.430000e+02</td>\n",
       "      <td>1.430000e+02</td>\n",
       "    </tr>\n",
       "    <tr>\n",
       "      <th>mean</th>\n",
       "      <td>6.807246e+05</td>\n",
       "      <td>2.090318e+06</td>\n",
       "      <td>35622.720280</td>\n",
       "      <td>366.125874</td>\n",
       "      <td>39.027972</td>\n",
       "      <td>24.797203</td>\n",
       "      <td>2.968067e+05</td>\n",
       "      <td>8.746100e+05</td>\n",
       "      <td>1.867429e+05</td>\n",
       "      <td>707.524476</td>\n",
       "      <td>1247.216783</td>\n",
       "      <td>2.272323e+06</td>\n",
       "      <td>2.930134e+06</td>\n",
       "    </tr>\n",
       "    <tr>\n",
       "      <th>std</th>\n",
       "      <td>1.236180e+06</td>\n",
       "      <td>4.809193e+06</td>\n",
       "      <td>45370.869604</td>\n",
       "      <td>1455.452279</td>\n",
       "      <td>74.466359</td>\n",
       "      <td>80.031821</td>\n",
       "      <td>1.135031e+06</td>\n",
       "      <td>2.022338e+06</td>\n",
       "      <td>1.971171e+05</td>\n",
       "      <td>1079.457016</td>\n",
       "      <td>2243.006069</td>\n",
       "      <td>8.876252e+06</td>\n",
       "      <td>6.205937e+06</td>\n",
       "    </tr>\n",
       "    <tr>\n",
       "      <th>min</th>\n",
       "      <td>0.000000e+00</td>\n",
       "      <td>0.000000e+00</td>\n",
       "      <td>0.000000</td>\n",
       "      <td>0.000000</td>\n",
       "      <td>0.000000</td>\n",
       "      <td>0.000000</td>\n",
       "      <td>0.000000e+00</td>\n",
       "      <td>-2.604490e+06</td>\n",
       "      <td>0.000000e+00</td>\n",
       "      <td>0.000000</td>\n",
       "      <td>0.000000</td>\n",
       "      <td>0.000000e+00</td>\n",
       "      <td>-4.409300e+04</td>\n",
       "    </tr>\n",
       "    <tr>\n",
       "      <th>25%</th>\n",
       "      <td>0.000000e+00</td>\n",
       "      <td>0.000000e+00</td>\n",
       "      <td>0.000000</td>\n",
       "      <td>0.000000</td>\n",
       "      <td>0.000000</td>\n",
       "      <td>0.000000</td>\n",
       "      <td>0.000000e+00</td>\n",
       "      <td>3.827650e+04</td>\n",
       "      <td>0.000000e+00</td>\n",
       "      <td>0.000000</td>\n",
       "      <td>0.000000</td>\n",
       "      <td>9.679650e+04</td>\n",
       "      <td>2.549360e+05</td>\n",
       "    </tr>\n",
       "    <tr>\n",
       "      <th>50%</th>\n",
       "      <td>3.000000e+05</td>\n",
       "      <td>6.087500e+05</td>\n",
       "      <td>21530.000000</td>\n",
       "      <td>18.000000</td>\n",
       "      <td>4.000000</td>\n",
       "      <td>0.000000</td>\n",
       "      <td>9.470000e+02</td>\n",
       "      <td>3.605280e+05</td>\n",
       "      <td>2.106920e+05</td>\n",
       "      <td>114.000000</td>\n",
       "      <td>383.000000</td>\n",
       "      <td>9.665220e+05</td>\n",
       "      <td>9.760370e+05</td>\n",
       "    </tr>\n",
       "    <tr>\n",
       "      <th>75%</th>\n",
       "      <td>8.000000e+05</td>\n",
       "      <td>1.698900e+06</td>\n",
       "      <td>53534.500000</td>\n",
       "      <td>54.000000</td>\n",
       "      <td>41.500000</td>\n",
       "      <td>14.000000</td>\n",
       "      <td>1.492040e+05</td>\n",
       "      <td>7.759920e+05</td>\n",
       "      <td>2.702590e+05</td>\n",
       "      <td>967.500000</td>\n",
       "      <td>1639.000000</td>\n",
       "      <td>1.956978e+06</td>\n",
       "      <td>2.307584e+06</td>\n",
       "    </tr>\n",
       "    <tr>\n",
       "      <th>max</th>\n",
       "      <td>8.000000e+06</td>\n",
       "      <td>3.434838e+07</td>\n",
       "      <td>228763.000000</td>\n",
       "      <td>14368.000000</td>\n",
       "      <td>528.000000</td>\n",
       "      <td>609.000000</td>\n",
       "      <td>1.035973e+07</td>\n",
       "      <td>1.476169e+07</td>\n",
       "      <td>1.111258e+06</td>\n",
       "      <td>5521.000000</td>\n",
       "      <td>15149.000000</td>\n",
       "      <td>1.035598e+08</td>\n",
       "      <td>4.911008e+07</td>\n",
       "    </tr>\n",
       "  </tbody>\n",
       "</table>\n",
       "</div>"
      ],
      "text/plain": [
       "              bonus  exercised_stock_options       expenses  from_messages  \\\n",
       "count  1.430000e+02             1.430000e+02     143.000000     143.000000   \n",
       "mean   6.807246e+05             2.090318e+06   35622.720280     366.125874   \n",
       "std    1.236180e+06             4.809193e+06   45370.869604    1455.452279   \n",
       "min    0.000000e+00             0.000000e+00       0.000000       0.000000   \n",
       "25%    0.000000e+00             0.000000e+00       0.000000       0.000000   \n",
       "50%    3.000000e+05             6.087500e+05   21530.000000      18.000000   \n",
       "75%    8.000000e+05             1.698900e+06   53534.500000      54.000000   \n",
       "max    8.000000e+06             3.434838e+07  228763.000000   14368.000000   \n",
       "\n",
       "       from_poi_to_this_person  from_this_person_to_poi         other  \\\n",
       "count               143.000000               143.000000  1.430000e+02   \n",
       "mean                 39.027972                24.797203  2.968067e+05   \n",
       "std                  74.466359                80.031821  1.135031e+06   \n",
       "min                   0.000000                 0.000000  0.000000e+00   \n",
       "25%                   0.000000                 0.000000  0.000000e+00   \n",
       "50%                   4.000000                 0.000000  9.470000e+02   \n",
       "75%                  41.500000                14.000000  1.492040e+05   \n",
       "max                 528.000000               609.000000  1.035973e+07   \n",
       "\n",
       "       restricted_stock        salary  shared_receipt_with_poi   to_messages  \\\n",
       "count      1.430000e+02  1.430000e+02               143.000000    143.000000   \n",
       "mean       8.746100e+05  1.867429e+05               707.524476   1247.216783   \n",
       "std        2.022338e+06  1.971171e+05              1079.457016   2243.006069   \n",
       "min       -2.604490e+06  0.000000e+00                 0.000000      0.000000   \n",
       "25%        3.827650e+04  0.000000e+00                 0.000000      0.000000   \n",
       "50%        3.605280e+05  2.106920e+05               114.000000    383.000000   \n",
       "75%        7.759920e+05  2.702590e+05               967.500000   1639.000000   \n",
       "max        1.476169e+07  1.111258e+06              5521.000000  15149.000000   \n",
       "\n",
       "       total_payments  total_stock_value  \n",
       "count    1.430000e+02       1.430000e+02  \n",
       "mean     2.272323e+06       2.930134e+06  \n",
       "std      8.876252e+06       6.205937e+06  \n",
       "min      0.000000e+00      -4.409300e+04  \n",
       "25%      9.679650e+04       2.549360e+05  \n",
       "50%      9.665220e+05       9.760370e+05  \n",
       "75%      1.956978e+06       2.307584e+06  \n",
       "max      1.035598e+08       4.911008e+07  "
      ]
     },
     "execution_count": 6,
     "metadata": {},
     "output_type": "execute_result"
    }
   ],
   "source": [
    "\n",
    "df.replace(to_replace='NaN', value=numpy.nan, inplace=True)\n",
    "\n",
    "# Print a count of NaNs per variable\n",
    "print df.isnull().sum()\n",
    "\n",
    "# Create framework to eliminate variables with too many NaNs\n",
    "print df.shape\n",
    "for column, series in df.iteritems():\n",
    "    if series.isnull().sum() > 65:\n",
    "        df.drop(column, axis=1, inplace=True)\n",
    "#But none had more than 150 NaNs       \n",
    "# Email addresses carry no useful info since we already have a key identifier.\n",
    "df_noemail = df\n",
    "if 'email_address' in list(df_noemail.columns.values):\n",
    "    df_noemail.drop('email_address', axis=1, inplace=True)\n",
    "if 'director_fees' in list(df_noemail.columns.values):\n",
    "    df_noemail.drop('director_fees', axis=1, inplace=True)\n",
    "        \n",
    "\n",
    "df_ko = df.replace(to_replace=numpy.nan, value=0)\n",
    "df_ko = df.fillna(0).copy(deep=True)\n",
    "df_ko.columns = list(df.columns.values)\n",
    "print df_ko.isnull().sum()\n",
    "print df_ko.head()\n",
    "\n",
    "df_ko.describe()"
   ]
  },
  {
   "cell_type": "markdown",
   "metadata": {},
   "source": [
    "All good so, I move on to creating my ratio variables for my POI to and from count ratios variables as well a total POI ratio to/from. \n",
    "\n",
    "The reason I am creating these variables is because I believe communication with known POI may be a good way of identifying whether or not a non POI might be a POI.  Guilty by association in otherwords.  Of course this may not be true but given our limited data, I think it is worth adding them.  The only way to tell is to test it with my classifiers and see if my newly created features improve the model.\n",
    "\n",
    "I will then check to make sure the variables are in the data and to see how many pre-defined POI are in my list. \n",
    "\n",
    "I will be looking at the total number of data points, and for each person, we will have two broad categories: person of interest (POI) and everyone else (non-POI)."
   ]
  },
  {
   "cell_type": "code",
   "execution_count": 7,
   "metadata": {},
   "outputs": [
    {
     "name": "stdout",
     "output_type": "stream",
     "text": [
      "Values: ['bonus', 'exercised_stock_options', 'expenses', 'from_messages', 'from_poi_to_this_person', 'from_this_person_to_poi', 'other', 'poi', 'restricted_stock', 'salary', 'shared_receipt_with_poi', 'to_messages', 'total_payments', 'total_stock_value', 'total_poi_ratio', 'ratio_to_poi', 'ratio_from_poi']\n",
      "Shape:  (143, 17)\n",
      "Number of POI in DataSet:  18\n",
      "Number of non-POI in Dataset:  125\n"
     ]
    }
   ],
   "source": [
    "\n",
    "total_poi_ratio = (df_ko['from_poi_to_this_person'] + df_ko['from_this_person_to_poi']) / (df_ko['from_messages'] + df_ko['to_messages'])\n",
    "ratio_to_poi = (df_ko['from_this_person_to_poi']) / (df_ko['from_messages'])\n",
    "ratio_from_poi = (df_ko['from_poi_to_this_person']) / (df_ko['to_messages'])\n",
    "\n",
    "\n",
    "df_ko['total_poi_ratio'] = pandas.Series(total_poi_ratio) * 100\n",
    "df_ko['ratio_to_poi'] = pandas.Series(ratio_to_poi) * 100\n",
    "df_ko['ratio_from_poi'] = pandas.Series(ratio_from_poi) * 100\n",
    "\n",
    "df_ko.describe()\n",
    "print \"Values:\", list(df_ko.columns.values)\n",
    "\n",
    "print \"Shape: \", df_ko.shape\n",
    "print \"Number of POI in DataSet: \", (df_ko['poi'] == 1).sum()\n",
    "print \"Number of non-POI in Dataset: \", (df_ko['poi'] == 0).sum()"
   ]
  },
  {
   "cell_type": "markdown",
   "metadata": {},
   "source": [
    "As you can see above there are 143 data points with 18 POI and 125 non-POI.\n",
    "\n",
    "I am now going to plot out some of my data, and I have chosen 3 graphs to show with the total POI ratio variable (which I just created) and salary, total stock vlaue, and bonus to visualize the correlations between known POIs and every one else. You will see that salary has a slight correlation but it is range bound and really just represents the density of employees in that salary range.  Total stock value is definitly higher for POIs. Bonus shows little to no relationship. As you can see, there are outliers in the financial data, however, these seem accurate given that they line up with executives like Ken Lay. Therefore, I will not filter outliers other than columns with too many NaNs."
   ]
  },
  {
   "cell_type": "code",
   "execution_count": 8,
   "metadata": {},
   "outputs": [
    {
     "data": {
      "image/png": "[encoded data removed]",
      "text/plain": [
       "<matplotlib.figure.Figure at 0x10e494dd0>"
      ]
     },
     "metadata": {},
     "output_type": "display_data"
    },
    {
     "name": "stdout",
     "output_type": "stream",
     "text": [
      "<ggplot: (283399853)>\n"
     ]
    },
    {
     "data": {
      "image/png": "[encoded data removed]",
      "text/plain": [
       "<matplotlib.figure.Figure at 0x10d9de490>"
      ]
     },
     "metadata": {},
     "output_type": "display_data"
    },
    {
     "name": "stdout",
     "output_type": "stream",
     "text": [
      "<ggplot: (282713781)>\n"
     ]
    },
    {
     "data": {
      "image/png": "[encoded data removed]",
      "text/plain": [
       "<matplotlib.figure.Figure at 0x10decc610>"
      ]
     },
     "metadata": {},
     "output_type": "display_data"
    },
    {
     "name": "stdout",
     "output_type": "stream",
     "text": [
      "<ggplot: (283488989)>\n"
     ]
    }
   ],
   "source": [
    "Salary_poi = ggplot(aes(x='salary', y='total_poi_ratio', colour='poi'), data=df_ko) + geom_point()\n",
    "print Salary_poi\n",
    "\n",
    "Deferred_poi = ggplot(aes(x='total_stock_value', y='total_poi_ratio', colour='poi'), data=df_ko) + geom_point()\n",
    "print Deferred_poi\n",
    "\n",
    "Bonus_poi = ggplot(aes(x='bonus', y='total_poi_ratio', colour='poi'), data=df_ko) + geom_point()\n",
    "print Bonus_poi"
   ]
  },
  {
   "cell_type": "markdown",
   "metadata": {},
   "source": [
    "It appears there may be some correlation based on the visual estimate.\n",
    "\n",
    "Now I will create some classifiers and run their scores to see if they have any accuracy.  I will further test for precision and recall.  I will then tune the best ones and select the very best as my final task. I will take a look at the resulting formating to make sure it is in an acceptable format for my machine learning algorythms."
   ]
  },
  {
   "cell_type": "code",
   "execution_count": 8,
   "metadata": {},
   "outputs": [
    {
     "name": "stdout",
     "output_type": "stream",
     "text": [
      "[0 0 0 0 1 0 0 0 0 0 0 0 0 0 0 0 1 0 0 0 0 0 0 0 0 0 0 0 0 0 1 0 0 0 0 0 0\n",
      " 0 0 0 0 1 0 0 0 0 0 0 0 0 0 0 0 1 0 0 0 0 0 0 1 0 0 0 0 1 0 0 0 0 0 0 0 0\n",
      " 0 0 1 0 0 0 0 0 1 0 0 1 0 1 1 0 0 0 0 0 1 0 0 0 0 0 0 0 0 0 0 0 0 0 0 0 0\n",
      " 0 0 0 0 0 0 0 0 0 0 0 1 1 0 0 0 0 0 0 0 0 1 0 0 0 0 0 0 1 0 0 1]\n",
      "[[  6.00000000e+05   0.00000000e+00   9.42990000e+04 ...,   4.66507177e+00\n",
      "    3.44827586e+00   4.70879802e+00]\n",
      " [  1.20000000e+06   6.68054400e+06   1.12000000e+04 ...,   0.00000000e+00\n",
      "    0.00000000e+00   0.00000000e+00]\n",
      " [  3.50000000e+05   4.89034400e+06   7.85520000e+04 ...,   0.00000000e+00\n",
      "    0.00000000e+00   0.00000000e+00]\n",
      " ..., \n",
      " [  6.00000000e+05   3.18125000e+06   0.00000000e+00 ...,   0.00000000e+00\n",
      "    0.00000000e+00   0.00000000e+00]\n",
      " [  8.00000000e+05   7.65920000e+05   9.62680000e+04 ...,   2.24351747e+01\n",
      "    5.00000000e+01   2.17341040e+01]\n",
      " [  6.00000000e+05   3.84728000e+05   1.25978000e+05 ...,   6.52418448e+00\n",
      "    3.75000000e+01   5.95647194e+00]]\n"
     ]
    }
   ],
   "source": [
    "labels = df_ko['poi'].copy(deep=True).astype(int).as_matrix()\n",
    "features = (df_ko.drop('poi', axis=1)).fillna(0).copy(deep=True).as_matrix()\n",
    "shuffle = sklearn.cross_validation.StratifiedShuffleSplit(labels, 4, test_size=0.3, random_state=0)\n",
    "\n",
    "print labels\n",
    "print features"
   ]
  },
  {
   "cell_type": "markdown",
   "metadata": {},
   "source": [
    "Decision Tree Classifier with Kfold for validating the results across different sections of the data. I will also print the list of best features.  Of course this list of features has been narrowed by taking out email addresses and director fees features as well as any feature that has more than 65 NaN values.   I ran this code first with the director fees feature included (but it was not usefull in predicting POI according to the features ranking) and found it easiest to delete it in a snipet of code above and re-run this section."
   ]
  },
  {
   "cell_type": "code",
   "execution_count": 9,
   "metadata": {},
   "outputs": [
    {
     "name": "stdout",
     "output_type": "stream",
     "text": [
      "accuracy before tuning 0.714285714286\n",
      "recall =  0.0\n",
      "precision =  0.0\n",
      "DT cross val scores [ 0.83333333  0.83333333  0.72340426]\n",
      "Decision tree algorithm time: 0.027 s\n",
      "Feature Ranking: \n",
      "1 feature salary (0.337137562515)\n",
      "2 feature to_messages (0.253508143376)\n",
      "3 feature deferral_payments (0.235900297125)\n",
      "4 feature total_payments (0.0578179989945)\n",
      "5 feature loan_advances (0.0578179989945)\n",
      "6 feature bonus (0.0578179989945)\n",
      "7 feature restricted_stock_deferred (0.0)\n",
      "8 feature deferred_income (0.0)\n",
      "9 feature total_stock_value (0.0)\n",
      "10 feature expenses (0.0)\n",
      "11 feature from_poi_to_this_person (0.0)\n",
      "12 feature exercised_stock_options (0.0)\n",
      "13 feature from_messages (0.0)\n",
      "14 feature other (0.0)\n",
      "15 feature from_this_person_to_poi (0.0)\n",
      "16 feature long_term_incentive (0.0)\n"
     ]
    }
   ],
   "source": [
    "from sklearn import cross_validation\n",
    "features_train, features_test, labels_train, labels_test = cross_validation.train_test_split(features, labels, test_size=0.2, random_state=80)\n",
    "\n",
    "###  KFold to split & validate \n",
    "from sklearn.cross_validation import KFold\n",
    "kf=KFold(len(labels),5)\n",
    "for train_indices, test_indices in kf:\n",
    "    # training and testing sets\n",
    "    features_train= [features[ii] for ii in train_indices]\n",
    "    features_test= [features[ii] for ii in test_indices]\n",
    "    labels_train=[labels[ii] for ii in train_indices]\n",
    "    labels_test=[labels[ii] for ii in test_indices]\n",
    "\n",
    "from sklearn.tree import DecisionTreeClassifier\n",
    "\n",
    "\n",
    "t0 = time()\n",
    "\n",
    "dt_clf = DecisionTreeClassifier()\n",
    "dt_clf.fit(features_train,labels_train)\n",
    "pred= dt_clf.predict(features_test)\n",
    "score = dt_clf.score(features_test,labels_test)\n",
    "recall=recall_score(labels_test, pred)\n",
    "\n",
    "print 'accuracy before tuning', score\n",
    "print 'recall = ', recall\n",
    "print 'precision = ', precision_score(labels_test,pred)\n",
    "scores = cross_validation.cross_val_score(dt_clf, features, labels)\n",
    "print \"DT cross val scores\", scores\n",
    "\n",
    "print \"Decision tree algorithm time:\", round(time()-t0, 3), \"s\"\n",
    "\n",
    "\n",
    "\n",
    "importances = dt_clf.feature_importances_\n",
    "import numpy as np\n",
    "indices = np.argsort(importances)[::-1]\n",
    "print 'Feature Ranking: '\n",
    "for i in range(16):\n",
    "    print \"{} feature {} ({})\".format(i+1,features_list[i+1],importances[indices[i]])"
   ]
  },
  {
   "cell_type": "markdown",
   "metadata": {},
   "source": [
    "Naive Bayes, a simple classifier. It shows inconsistant cross val scores so it will not likely be the best option. I ran the test classifier and sure enough it could not beat the .3 recall & precision scores needed in spite of saying that it has adequet recall in the test below.  This highlights the importance of validation techniques.\n",
    "\n",
    "Specifically in regards to validation in this project, I used kfold and cross validation to divide the data sets into test and training.  The test sets were not used in the model and then the model was tested on the test set to see how accurately it could predict POIs.  In fact, this was done three different times in the case above, and in three attempts to validate, the accuracy varied too much.  Meaning that if we had tried just one test set selection, we may have had misleading information as to the accuracy of the algorythm to predict whether or not a person is a POI.  Therefore, I will use validation techniques in all of my classifiers I am testing in this project."
   ]
  },
  {
   "cell_type": "code",
   "execution_count": 10,
   "metadata": {},
   "outputs": [
    {
     "name": "stdout",
     "output_type": "stream",
     "text": [
      "NB accuracy 0.714285714286\n",
      "NB Recall 0.4\n",
      "NB precision =  0.285714285714\n",
      "NB cross val scores [ 0.85416667  0.89583333  0.76595745]\n",
      "NB algorithm run time: 0.027 s\n"
     ]
    }
   ],
   "source": [
    "from tester import test_classifier, dump_classifier_and_data\n",
    "t0 = time()\n",
    "\n",
    "clf = GaussianNB()\n",
    "clf.fit(features_train, labels_train)\n",
    "pred = clf.predict(features_test)\n",
    "accuracy = accuracy_score(pred,labels_test)\n",
    "rec=recall_score(labels_test, pred)\n",
    "print \"NB accuracy\", accuracy\n",
    "print \"NB Recall\", rec\n",
    "print 'NB precision = ', precision_score(labels_test,pred)\n",
    "\n",
    "from sklearn import cross_validation\n",
    "scores = cross_validation.cross_val_score(clf, features, labels)\n",
    "\n",
    "print \"NB cross val scores\", scores\n",
    "\n",
    "print \"NB algorithm run time:\", round(time()-t0, 3), \"s\"\n"
   ]
  },
  {
   "cell_type": "code",
   "execution_count": 11,
   "metadata": {},
   "outputs": [
    {
     "name": "stdout",
     "output_type": "stream",
     "text": [
      "Log accuracy 0.642857142857\n",
      "Log Recall 0.0\n",
      "Log precision =  0.0\n"
     ]
    },
    {
     "name": "stderr",
     "output_type": "stream",
     "text": [
      "/anaconda/lib/python2.7/site-packages/sklearn/metrics/classification.py:1135: UndefinedMetricWarning: F-score is ill-defined and being set to 0.0 in labels with no predicted samples.\n",
      "  'precision', 'predicted', average, warn_for)\n"
     ]
    },
    {
     "name": "stdout",
     "output_type": "stream",
     "text": [
      "LogisticRegression(C=100000, class_weight=None, dual=False,\n",
      "          fit_intercept=True, intercept_scaling=1, max_iter=100,\n",
      "          multi_class='ovr', n_jobs=1, penalty='l2', random_state=None,\n",
      "          solver='liblinear', tol=1e-10, verbose=0, warm_start=False)\n",
      "0.666025437525\n"
     ]
    }
   ],
   "source": [
    "from sklearn.linear_model import LogisticRegression\n",
    "clf_log = LogisticRegression()\n",
    "params_log = {  \"C\":[0.05, 0.5, 1, 10, 10**2,10**5,10**10, 10**20],\n",
    "                    \"tol\":[10**-1, 10**-5, 10**-10],\n",
    "                    \"class_weight\":['balanced']\n",
    "                    }\n",
    "\n",
    "clf_log.fit(features_train, labels_train)\n",
    "pred = clf_log.predict(features_test)\n",
    "accuracy = accuracy_score(pred,labels_test)\n",
    "rec=recall_score(labels_test, pred)\n",
    "\n",
    "print \"Log accuracy\", accuracy\n",
    "print \"Log Recall\", rec\n",
    "print 'Log precision = ', precision_score(labels_test,pred)\n",
    "\n",
    "from sklearn import grid_search\n",
    "cv = sklearn.cross_validation.StratifiedShuffleSplit(labels, n_iter=10)\n",
    "\n",
    "def scoring(estimator, features_test, labels_test):\n",
    "     labels_pred = estimator.predict(features_test)\n",
    "     p = sklearn.metrics.precision_score(labels_test, labels_pred, average='micro')\n",
    "     r = sklearn.metrics.recall_score(labels_test, labels_pred, average='micro')\n",
    "     if p > 0.3 and r > 0.3:\n",
    "            return sklearn.metrics.f1_score(labels_test, labels_pred, average='macro')\n",
    "     return 0\n",
    "                \n",
    "from sklearn import grid_search\n",
    "\n",
    "parameters = {'C' : [0.05, 0.5, 1, 10, 10**2,10**5,10**10, 10**20], 'tol' : [10**-1, 10**-5, 10**-10] }\n",
    "\n",
    "clf_log = LogisticRegression()\n",
    "clf_log_tune = GridSearchCV(clf_log, parameters, scoring = scoring, cv = cv)\n",
    "clf_log_tune.fit(features, labels)\n",
    "\n",
    "print clf_log_tune.best_estimator_\n",
    "print clf_log_tune.best_score_\n",
    "\n"
   ]
  },
  {
   "cell_type": "markdown",
   "metadata": {},
   "source": [
    "Support Vector Machine or SVC in sklearn.  Again, this is a relativily simple classifier but it has no recall when ran so will not likly be the right choice."
   ]
  },
  {
   "cell_type": "code",
   "execution_count": 12,
   "metadata": {},
   "outputs": [
    {
     "name": "stdout",
     "output_type": "stream",
     "text": [
      "training time: 0.01 s\n",
      "count: 0\n",
      "SVC accuracy 0.821428571429\n",
      "SVC Recall 0.0\n",
      "SVC cross val scores [ 0.875       0.875       0.87234043]\n"
     ]
    }
   ],
   "source": [
    "\n",
    "from sklearn.svm import SVC\n",
    "clf = SVC(C=10000, kernel=\"rbf\")\n",
    "t0 = time()\n",
    "clf.fit(features_train, labels_train)\n",
    "print \"training time:\", round(time()-t0, 3), \"s\"\n",
    "#t1 = time()\n",
    "pred = clf.predict(features_test)\n",
    "count = 0\n",
    "for p in pred:\n",
    "    if p == 1:\n",
    "        count = count + 1\n",
    "print \"count:\", count\n",
    "#print \"predicting time:\", round(time()-t1, 3), \"s\"\n",
    "t2 = time()\n",
    "rec=recall_score(labels_test, pred)\n",
    "accuracy = accuracy_score(pred,labels_test)\n",
    "print \"SVC accuracy\", accuracy\n",
    "print \"SVC Recall\", rec\n",
    "from sklearn import cross_validation\n",
    "scores = cross_validation.cross_val_score(clf, features, labels)\n",
    "\n",
    "print \"SVC cross val scores\", scores"
   ]
  },
  {
   "cell_type": "markdown",
   "metadata": {},
   "source": [
    "ADABoost is as popular choice for machine learning. And, it works well with this data too.  The feature rankings are different than the ones we found with the simple decision tree above.  This is the best result yet, and with some tuning may just be the winning classifier.  The only tuning I've done here is specify the n_estimators.  I tried different ones, and this number worked well."
   ]
  },
  {
   "cell_type": "code",
   "execution_count": 13,
   "metadata": {
    "scrolled": true
   },
   "outputs": [
    {
     "name": "stdout",
     "output_type": "stream",
     "text": [
      "Adaboost accuracy 0.678571428571\n",
      "Adaboost Recall 0.2\n",
      "Adaboost cross val scores [ 0.85416667  0.875       0.80851064]\n",
      "Adaboost precision =  0.166666666667\n",
      "Feature Ranking: \n",
      "1 feature salary (0.133333333333)\n",
      "2 feature to_messages (0.133333333333)\n",
      "3 feature deferral_payments (0.12)\n",
      "4 feature total_payments (0.113333333333)\n",
      "5 feature loan_advances (0.106666666667)\n",
      "6 feature bonus (0.08)\n",
      "7 feature restricted_stock_deferred (0.0533333333333)\n",
      "8 feature deferred_income (0.0466666666667)\n",
      "9 feature total_stock_value (0.0466666666667)\n",
      "10 feature expenses (0.04)\n",
      "11 feature from_poi_to_this_person (0.04)\n",
      "12 feature exercised_stock_options (0.02)\n",
      "13 feature from_messages (0.02)\n",
      "14 feature other (0.02)\n",
      "15 feature from_this_person_to_poi (0.0133333333333)\n",
      "16 feature long_term_incentive (0.0133333333333)\n"
     ]
    }
   ],
   "source": [
    "from sklearn.ensemble import AdaBoostClassifier\n",
    "\n",
    "adab_clf = AdaBoostClassifier(n_estimators=150)\n",
    "adab_clf.fit(features_train, labels_train)\n",
    "scores = sklearn.cross_validation.cross_val_score(adab_clf, features, labels)\n",
    "pred = adab_clf.predict(features_test)\n",
    "rec=recall_score(labels_test, pred)\n",
    "accuracy = accuracy_score(pred,labels_test)\n",
    "print \"Adaboost accuracy\", accuracy\n",
    "print \"Adaboost Recall\", rec\n",
    "print \"Adaboost cross val scores\", scores\n",
    "print \"Adaboost precision = \", precision_score(labels_test,pred)\n",
    "importances = adab_clf.feature_importances_\n",
    "import numpy as np\n",
    "indices = np.argsort(importances)[::-1]\n",
    "print 'Feature Ranking: '\n",
    "for i in range(16):\n",
    "    print \"{} feature {} ({})\".format(i+1,features_list[i+1],importances[indices[i]])"
   ]
  },
  {
   "cell_type": "markdown",
   "metadata": {},
   "source": [
    "Adaboost is showing the most promise, but has not returned the .3 precision I am looking for. so I will optimize and tune Adaboost with the following code."
   ]
  },
  {
   "cell_type": "code",
   "execution_count": 14,
   "metadata": {},
   "outputs": [
    {
     "name": "stdout",
     "output_type": "stream",
     "text": [
      "AdaBoostClassifier(algorithm='SAMME',\n",
      "          base_estimator=DecisionTreeClassifier(class_weight=None, criterion='gini', max_depth=8,\n",
      "            max_features=None, max_leaf_nodes=None,\n",
      "            min_impurity_decrease=0.0, min_impurity_split=None,\n",
      "            min_samples_leaf=1, min_samples_split=2,\n",
      "            min_weight_fraction_leaf=0.0, presort=False, random_state=None,\n",
      "            splitter='best'),\n",
      "          learning_rate=0.1, n_estimators=50, random_state=None)\n",
      "0.708450748527\n"
     ]
    }
   ],
   "source": [
    "\n",
    "from sklearn import grid_search\n",
    "\n",
    "cv = sklearn.cross_validation.StratifiedShuffleSplit(labels, n_iter=20)\n",
    "\n",
    "def scoring(estimator, features_test, labels_test):\n",
    "     labels_pred = estimator.predict(features_test)\n",
    "     p = sklearn.metrics.precision_score(labels_test, labels_pred, average='micro')\n",
    "     r = sklearn.metrics.recall_score(labels_test, labels_pred, average='micro')\n",
    "     if p > 0.3 and r > 0.3:\n",
    "            return sklearn.metrics.f1_score(labels_test, labels_pred, average='macro')\n",
    "     return 0\n",
    "                \n",
    "from sklearn import grid_search\n",
    "from sklearn.tree import DecisionTreeClassifier\n",
    "from sklearn.svm import SVC\n",
    "parameters = {'n_estimators' : [5, 10, 30, 40, 50, 75, 100,150], 'learning_rate' : [.001, 0.1, 0.5, 1, 1.5, 2, 2.5], 'algorithm' : ('SAMME', 'SAMME.R')}\n",
    "adab_clf = AdaBoostClassifier(DecisionTreeClassifier(max_depth=8))\n",
    "adabclf = GridSearchCV(adab_clf, parameters, scoring = scoring, cv = cv)\n",
    "adabclf.fit(features, labels)\n",
    "\n",
    "print adabclf.best_estimator_\n",
    "print adabclf.best_score_\n",
    "\n"
   ]
  },
  {
   "cell_type": "markdown",
   "metadata": {},
   "source": [
    "Now that we have a tuning that clearly imporves on the initial parameters, I can run it through the tester script and see how it performs. When tuning, the only parameters I gave for possible tests were the n_estimators, learning_rate, and algorythm.  I found that adding a smaller fraction of a number for the learning rate, worked well to improve my recall and precision for ada boost.  The tuner found that the best tuning was n_estimators = 50, learning rate =0.1 and it chose the SAMME algorythm over the SAMME.R. algorythm.  \n",
    "\n",
    "The reason it is important to tune the parameters is because we want the algorythm to be able to predict whether or NOT a person is a POI accurately and consistantly.  In regards to recall, we are looking to achieve .3 or above.  This is the probability of the algorythm to accuractly predict a person is a POI when that person actually is a POI. A recall of .3 tells us that 30 percent of the time when a person is actually a POI the classifer will identify it as such.  \n",
    "\n",
    "\n",
    "We are looking also for a precision of .3 or above.  Precision in this case tells us how precise the predictions (using a test set) of the classifier are. In other words it tells us that if a person is identfied as a POI by the classifier, how likely that person is to actually be a POI.  In this case 30% or more likely.  Not fantasic, but given the limited number of example POI's it is actually remarkable.\n",
    "\n",
    "Finally, we have accuracy which is important because recall and precision do not take into account true negatives (In this case, the times the classifier accuratley predicts that a person is not a POI). It tells us how good the algorythm is at guessing whether a person is or is NOT a POI.\n",
    "\n",
    "It is important to tune because we could have a high recall but a low precision which would mean that its great at picking a POI when they are a POI but terrible when the person is not.  In otherwords it would likely tell you a non-POI is a POI more than 70% of the time.  Making the recall basically useless and non-selective.\n",
    "\n",
    "On the otherhand, we could have a high precision but terrible recall. This would mean that it would be bad at identifying a POI who is a POI but when it did guess correctly, it would rearely identyfy a non-POI as a POI. \n"
   ]
  },
  {
   "cell_type": "code",
   "execution_count": 15,
   "metadata": {},
   "outputs": [
    {
     "name": "stdout",
     "output_type": "stream",
     "text": [
      "AdaBoostClassifier(algorithm='SAMME',\n",
      "          base_estimator=DecisionTreeClassifier(class_weight=None, criterion='gini', max_depth=8,\n",
      "            max_features=None, max_leaf_nodes=None,\n",
      "            min_impurity_decrease=0.0, min_impurity_split=None,\n",
      "            min_samples_leaf=1, min_samples_split=2,\n",
      "            min_weight_fraction_leaf=0.0, presort=False, random_state=None,\n",
      "            splitter='best'),\n",
      "          learning_rate=0.1, n_estimators=50, random_state=None)\n",
      "\tAccuracy: 0.82073\tPrecision: 0.32715\tRecall: 0.32600\tF1: 0.32657\tF2: 0.32623\n",
      "\tTotal predictions: 15000\tTrue positives:  652\tFalse positives: 1341\tFalse negatives: 1348\tTrue negatives: 11659\n",
      "\n"
     ]
    }
   ],
   "source": [
    "from tester import test_classifier, dump_classifier_and_data\n",
    "adab_best_clf = adabclf.best_estimator_\n",
    "list_cols = list(df_ko.columns.values)\n",
    "list_cols.remove('poi')\n",
    "list_cols.insert(0, 'poi')\n",
    "data = df_ko[list_cols].fillna(0).to_dict(orient='records')\n",
    "enron_data_sub = {}\n",
    "counter = 0\n",
    "for item in data:\n",
    "    enron_data_sub[counter] = item\n",
    "    counter += 1\n",
    "\n",
    "test_classifier(adab_best_clf, enron_data_sub, list_cols)\n"
   ]
  },
  {
   "cell_type": "markdown",
   "metadata": {},
   "source": [
    "Hurray it works!! The precision and recall came up above the .3 mark.  Maybe if I scale the features it will be more accurate?  No, it does not improve the recall or the precision.  Overall, it is not helpful."
   ]
  },
  {
   "cell_type": "code",
   "execution_count": 16,
   "metadata": {},
   "outputs": [
    {
     "name": "stdout",
     "output_type": "stream",
     "text": [
      "AdaBoostClassifier(algorithm='SAMME',\n",
      "          base_estimator=DecisionTreeClassifier(class_weight=None, criterion='gini', max_depth=8,\n",
      "            max_features=None, max_leaf_nodes=None,\n",
      "            min_impurity_decrease=0.0, min_impurity_split=None,\n",
      "            min_samples_leaf=1, min_samples_split=2,\n",
      "            min_weight_fraction_leaf=0.0, presort=False, random_state=None,\n",
      "            splitter='best'),\n",
      "          learning_rate=0.1, n_estimators=50, random_state=None)\n",
      "\tAccuracy: 0.81800\tPrecision: 0.32178\tRecall: 0.32950\tF1: 0.32559\tF2: 0.32793\n",
      "\tTotal predictions: 15000\tTrue positives:  659\tFalse positives: 1389\tFalse negatives: 1341\tTrue negatives: 11611\n",
      "\n"
     ]
    }
   ],
   "source": [
    "from sklearn import preprocessing\n",
    "scaler = preprocessing.MinMaxScaler()\n",
    "features = scaler.fit_transform(features)\n",
    "\n",
    "from tester import test_classifier, dump_classifier_and_data\n",
    "adab_best_clf = adabclf.best_estimator_\n",
    "list_cols = list(df_ko.columns.values)\n",
    "list_cols.remove('poi')\n",
    "list_cols.insert(0, 'poi')\n",
    "data = df_ko[list_cols].fillna(0).to_dict(orient='records')\n",
    "enron_data_sub = {}\n",
    "counter = 0\n",
    "for item in data:\n",
    "    enron_data_sub[counter] = item\n",
    "    counter += 1\n",
    "\n",
    "test_classifier(adab_best_clf, enron_data_sub, list_cols)"
   ]
  },
  {
   "cell_type": "markdown",
   "metadata": {},
   "source": [
    "Now, I will run a Logistic regression with PCA to select the most important components that predict if a person is a person of interest or not. I used my best features list from my earlier decision tree classifier.  I had to use pipeline and StandardScaler in order to pass the information and tune it as well as scale it."
   ]
  },
  {
   "cell_type": "code",
   "execution_count": 17,
   "metadata": {
    "collapsed": true
   },
   "outputs": [],
   "source": [
    "def tune_logistic_regression():\n",
    "\n",
    "    skb = SelectKBest()\n",
    "    pca = PCA()\n",
    "    lr_clf = LogisticRegression()\n",
    "\n",
    "    pipe_lr = Pipeline(steps=[(\"SKB\", skb), (\"PCA\", pca), (\"LogisticRegression\", lr_clf)])\n",
    "\n",
    "    lr_k = {\"SKB__k\": range(9, 10)}\n",
    "    lr_params = {'LogisticRegression__C': [1e-08, 1e-07, 1e-06],\n",
    "                 'LogisticRegression__tol': [1e-2, 1e-3, 1e-4],\n",
    "                 'LogisticRegression__penalty': ['l1', 'l2'],\n",
    "                 'LogisticRegression__random_state': [42, 46, 60]}\n",
    "    lr_pca = {\"PCA__n_components\": range(3, 8), \"PCA__whiten\": [True, False]}\n",
    "\n",
    "    lr_k.update(lr_params)\n",
    "    lr_k.update(lr_pca)\n",
    "\n",
    "    enron.get_best_parameters_reports(pipe_lr, lr_k, features, labels)\n"
   ]
  },
  {
   "cell_type": "code",
   "execution_count": 18,
   "metadata": {},
   "outputs": [
    {
     "name": "stdout",
     "output_type": "stream",
     "text": [
      "Logistic Regression : \n",
      "Pipeline(memory=None,\n",
      "     steps=[('scaler', StandardScaler(copy=True, with_mean=True, with_std=True)), ('pca', PCA(copy=True, iterated_power='auto', n_components=4, random_state=None,\n",
      "  svd_solver='auto', tol=0.0, whiten=False)), ('classifier', LogisticRegression(C=1e-08, class_weight=None, dual=False, fit_intercept=True,\n",
      "          intercept_scaling=1, max_iter=100, multi_class='ovr', n_jobs=1,\n",
      "          penalty='l2', random_state=42, solver='liblinear', tol=0.01,\n",
      "          verbose=0, warm_start=False))])\n",
      "\tAccuracy: 0.81080\tPrecision: 0.32856\tRecall: 0.40150\tF1: 0.36139\tF2: 0.38443\n",
      "\tTotal predictions: 15000\tTrue positives:  803\tFalse positives: 1641\tFalse negatives: 1197\tTrue negatives: 11359\n",
      "\n",
      "None\n"
     ]
    }
   ],
   "source": [
    "from sklearn.pipeline import Pipeline\n",
    "from sklearn.decomposition import PCA\n",
    "from sklearn.preprocessing import StandardScaler\n",
    "my_dataset = data_dict\n",
    "features_list = ['poi', 'salary', 'to_messages', 'deferral_payments', 'total_payments', \n",
    "                 'loan_advances', 'bonus', 'restricted_stock_deferred', \n",
    "                 'deferred_income', 'total_stock_value', 'expenses', 'from_poi_to_this_person', \n",
    "                 'exercised_stock_options', 'from_messages', 'other', 'from_this_person_to_poi', \n",
    "                 'long_term_incentive', 'shared_receipt_with_poi', 'restricted_stock'] \n",
    "\n",
    "\n",
    "\n",
    "# Select 16 best features \n",
    "best_features_list_lr = ['poi', 'salary', 'to_messages', 'deferral_payments', 'total_payments', \n",
    "                 'loan_advances', 'bonus', 'restricted_stock_deferred', \n",
    "                 'deferred_income', 'total_stock_value', 'expenses', 'from_poi_to_this_person', \n",
    "                 'exercised_stock_options', 'from_messages', 'other', 'from_this_person_to_poi', \n",
    "                 'long_term_incentive']\n",
    "\n",
    "\n",
    "### Re-extracting features to be compatiable\n",
    "data = featureFormat(my_dataset, features_list, sort_keys=True)\n",
    "labels, features = targetFeatureSplit(data)\n",
    "def get_k_best(data_dict, features_list, k):\n",
    "\n",
    "    data = featureFormat(df_ko, features_list)\n",
    "    labels_train, features_train = targetFeatureSplit(data)\n",
    "\n",
    "    k_best = SelectKBest(f_classif, k=k)\n",
    "    k_best.fit(features_train, labels_train)\n",
    "\n",
    "    unsorted_list = zip(features_list[1:], k_best.scores_)\n",
    "    sorted_list = sorted(unsorted_list, key=lambda x: x[1], reverse=True)\n",
    "    k_best_features = dict(sorted_list[:k])\n",
    "\n",
    "    return ['poi'] + k_best_features.keys()\n",
    "\n",
    "### Each classifier and tune\n",
    "\n",
    "def tune_logistic_regression():\n",
    "\n",
    "    skb = SelectKBest()\n",
    "    pca = PCA()\n",
    "    lr_clf = LogisticRegression()\n",
    "\n",
    "    pipe_lr = Pipeline(steps=[(\"SKB\", skb), (\"PCA\", pca), (\"LogisticRegression\", lr_clf)])\n",
    "\n",
    "    lr_k = {\"SKB__k\": range(9, 10)}\n",
    "    lr_params = {'LogisticRegression__C': [1e-08, 1e-07, 1e-06],\n",
    "                 'LogisticRegression__tol': [1e-2, 1e-3, 1e-4],\n",
    "                 'LogisticRegression__penalty': ['l1', 'l2'],\n",
    "                 'LogisticRegression__random_state': [42, 46, 60]}\n",
    "    lr_pca = {\"PCA__n_components\": range(3, 8), \"PCA__whiten\": [True, False]}\n",
    "\n",
    "    lr_k.update(lr_params)\n",
    "    lr_k.update(lr_pca)\n",
    "\n",
    "    enron.get_best_parameters_reports(pipe_lr, lr_k, features, labels)\n",
    "\n",
    "\n",
    "#tuneLOGReg\n",
    "labels = df_ko['poi'].copy(deep=True).astype(int).as_matrix()\n",
    "features = (df_ko.drop('poi', axis=1)).fillna(0).copy(deep=True).as_matrix()\n",
    "\n",
    "clf_lr = Pipeline(steps=[\n",
    "    ('scaler', StandardScaler()),\n",
    "    ('pca', PCA(n_components=4, whiten=False)),\n",
    "    ('classifier', LogisticRegression(tol=0.01, C=1e-08, penalty='l2', random_state=42))])\n",
    "\n",
    "print \"Logistic Regression : \\n\", test_classifier(clf_lr, my_dataset, best_features_list_lr)\n",
    "clf_lr = clf\n",
    "features_list = best_features_list_lr\n"
   ]
  },
  {
   "cell_type": "markdown",
   "metadata": {},
   "source": [
    "The logistic regression with PCA Worked the best!  The classifier boiled all of that info down to just 4 components which are a composite of my best chosen features.  In regards to my features that I added, \"from_poi_to_this_person\", \"from_this_person_to_poi\", and \"shared_receipt_with_poi\", I tested each classifier with and without the new features and found them to improve the recall and precision slightly in each case.  Therefore, I left them in the features list.\n",
    "\n",
    "Unfortunately, I was not able to get the PCA pipeline to work with the tester script provided.  Consequentially, the poi_id.py script uses ADAboost instead to achieve the minimum recall and precision required for the project.\n",
    "\n",
    "Reflecting back, I spent days trying to break past .30 accuracy without pca, and finally it took removing the features where there was more than 65 NaN values.  Just removing columns that the decsion tree classifier ranking said were useless did not help.  Also removing features with more than 150 NaNs did not work either.  This was a learning opportunity particularly because I realized good data cleaning can be more important than any fancy algorythm.  Then, I was able to make PCA work and received an even better result. In the end, the 3 features I created with ratios of emails to and from POI were not signifcant predictors, and were tossed out because they had too many NaN values.  I ran the classifiers with them, and could not break .3 recall/precsision.  The other difficult thing about this data is that we had so few known POI to go off.  If we had more, we could have built a classifier that returned a much higher Recall and Precision.\n"
   ]
  }
 ],
 "metadata": {
  "kernelspec": {
   "display_name": "Python 2",
   "language": "python",
   "name": "python2"
  },
  "language_info": {
   "codemirror_mode": {
    "name": "ipython",
    "version": 2
   },
   "file_extension": ".py",
   "mimetype": "text/x-python",
   "name": "python",
   "nbconvert_exporter": "python",
   "pygments_lexer": "ipython2",
   "version": "2.7.13"
  }
 },
 "nbformat": 4,
 "nbformat_minor": 2
}
