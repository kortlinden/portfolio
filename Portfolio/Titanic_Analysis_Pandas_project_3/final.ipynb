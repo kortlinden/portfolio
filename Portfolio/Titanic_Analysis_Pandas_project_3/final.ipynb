{
 "cells": [
  {
   "cell_type": "markdown",
   "metadata": {},
   "source": [
    "Who was most likely to survived the Titanic?  Is it the same for everyone or did the saying \"Women and children first\" hold true?\n",
    "My null hypothosis is that sex, age, and class did not significantly correlate when considering likelyhood of survival on the titanic.\n",
    "The null hypothosis is that Women, children and being of a higher class increased the correlation to survival.\n",
    "\n",
    "1. I will explore the data and look for missing values and unusual data types, and look at over all statistics.\n",
    "2. I will clean it of entries where there are missing values for my main variables Sex, Age & class.\n",
    "3. I will create histograms to see what kind of distributions exist for Age.\n",
    "4. I will group certain data (by age group) so that I can compare children, adults, and those over 50 and create groups for each sex (male, female) and each class (1,2,3).\n",
    "5. I will do cross tabs for survival and each of my independant variables so that I can see counts.\n",
    "6. I will perform the Chi squared test  assess correlation of Sex, Age Group, and Class on survival.  \n",
    "7. I will compare and visualized the groups to demonstrate which categories were most likely to survive.\n",
    "8. I will list the three independant variables which appear to correlate to survival the most, and it will be the person who has all three of these that is most correlated to survival."
   ]
  },
  {
   "cell_type": "code",
   "execution_count": 1,
   "metadata": {
    "collapsed": true
   },
   "outputs": [],
   "source": [
    "import pandas as pd\n",
    "import seaborn as sns\n",
    "import scipy.stats as stats\n",
    "titanic_df = pd.read_csv('titanic-data.csv')"
   ]
  },
  {
   "cell_type": "code",
   "execution_count": 3,
   "metadata": {},
   "outputs": [
    {
     "name": "stdout",
     "output_type": "stream",
     "text": [
      "<class 'pandas.core.frame.DataFrame'>\n",
      "RangeIndex: 891 entries, 0 to 890\n",
      "Data columns (total 12 columns):\n",
      "PassengerId    891 non-null int64\n",
      "Survived       891 non-null int64\n",
      "Pclass         891 non-null int64\n",
      "Name           891 non-null object\n",
      "Sex            891 non-null object\n",
      "Age            714 non-null float64\n",
      "SibSp          891 non-null int64\n",
      "Parch          891 non-null int64\n",
      "Ticket         891 non-null object\n",
      "Fare           891 non-null float64\n",
      "Cabin          204 non-null object\n",
      "Embarked       889 non-null object\n",
      "dtypes: float64(2), int64(5), object(5)\n",
      "memory usage: 83.6+ KB\n"
     ]
    }
   ],
   "source": [
    "titanic_df.info()"
   ]
  },
  {
   "cell_type": "code",
   "execution_count": 2,
   "metadata": {},
   "outputs": [
    {
     "data": {
      "text/html": [
       "<div>\n",
       "<table border=\"1\" class=\"dataframe\">\n",
       "  <thead>\n",
       "    <tr style=\"text-align: right;\">\n",
       "      <th></th>\n",
       "      <th>PassengerId</th>\n",
       "      <th>Survived</th>\n",
       "      <th>Pclass</th>\n",
       "      <th>Age</th>\n",
       "      <th>SibSp</th>\n",
       "      <th>Parch</th>\n",
       "      <th>Fare</th>\n",
       "    </tr>\n",
       "  </thead>\n",
       "  <tbody>\n",
       "    <tr>\n",
       "      <th>count</th>\n",
       "      <td>891.000000</td>\n",
       "      <td>891.000000</td>\n",
       "      <td>891.000000</td>\n",
       "      <td>714.000000</td>\n",
       "      <td>891.000000</td>\n",
       "      <td>891.000000</td>\n",
       "      <td>891.000000</td>\n",
       "    </tr>\n",
       "    <tr>\n",
       "      <th>mean</th>\n",
       "      <td>446.000000</td>\n",
       "      <td>0.383838</td>\n",
       "      <td>2.308642</td>\n",
       "      <td>29.699118</td>\n",
       "      <td>0.523008</td>\n",
       "      <td>0.381594</td>\n",
       "      <td>32.204208</td>\n",
       "    </tr>\n",
       "    <tr>\n",
       "      <th>std</th>\n",
       "      <td>257.353842</td>\n",
       "      <td>0.486592</td>\n",
       "      <td>0.836071</td>\n",
       "      <td>14.526497</td>\n",
       "      <td>1.102743</td>\n",
       "      <td>0.806057</td>\n",
       "      <td>49.693429</td>\n",
       "    </tr>\n",
       "    <tr>\n",
       "      <th>min</th>\n",
       "      <td>1.000000</td>\n",
       "      <td>0.000000</td>\n",
       "      <td>1.000000</td>\n",
       "      <td>0.420000</td>\n",
       "      <td>0.000000</td>\n",
       "      <td>0.000000</td>\n",
       "      <td>0.000000</td>\n",
       "    </tr>\n",
       "    <tr>\n",
       "      <th>25%</th>\n",
       "      <td>223.500000</td>\n",
       "      <td>0.000000</td>\n",
       "      <td>2.000000</td>\n",
       "      <td>20.125000</td>\n",
       "      <td>0.000000</td>\n",
       "      <td>0.000000</td>\n",
       "      <td>7.910400</td>\n",
       "    </tr>\n",
       "    <tr>\n",
       "      <th>50%</th>\n",
       "      <td>446.000000</td>\n",
       "      <td>0.000000</td>\n",
       "      <td>3.000000</td>\n",
       "      <td>28.000000</td>\n",
       "      <td>0.000000</td>\n",
       "      <td>0.000000</td>\n",
       "      <td>14.454200</td>\n",
       "    </tr>\n",
       "    <tr>\n",
       "      <th>75%</th>\n",
       "      <td>668.500000</td>\n",
       "      <td>1.000000</td>\n",
       "      <td>3.000000</td>\n",
       "      <td>38.000000</td>\n",
       "      <td>1.000000</td>\n",
       "      <td>0.000000</td>\n",
       "      <td>31.000000</td>\n",
       "    </tr>\n",
       "    <tr>\n",
       "      <th>max</th>\n",
       "      <td>891.000000</td>\n",
       "      <td>1.000000</td>\n",
       "      <td>3.000000</td>\n",
       "      <td>80.000000</td>\n",
       "      <td>8.000000</td>\n",
       "      <td>6.000000</td>\n",
       "      <td>512.329200</td>\n",
       "    </tr>\n",
       "  </tbody>\n",
       "</table>\n",
       "</div>"
      ],
      "text/plain": [
       "       PassengerId    Survived      Pclass         Age       SibSp  \\\n",
       "count   891.000000  891.000000  891.000000  714.000000  891.000000   \n",
       "mean    446.000000    0.383838    2.308642   29.699118    0.523008   \n",
       "std     257.353842    0.486592    0.836071   14.526497    1.102743   \n",
       "min       1.000000    0.000000    1.000000    0.420000    0.000000   \n",
       "25%     223.500000    0.000000    2.000000   20.125000    0.000000   \n",
       "50%     446.000000    0.000000    3.000000   28.000000    0.000000   \n",
       "75%     668.500000    1.000000    3.000000   38.000000    1.000000   \n",
       "max     891.000000    1.000000    3.000000   80.000000    8.000000   \n",
       "\n",
       "            Parch        Fare  \n",
       "count  891.000000  891.000000  \n",
       "mean     0.381594   32.204208  \n",
       "std      0.806057   49.693429  \n",
       "min      0.000000    0.000000  \n",
       "25%      0.000000    7.910400  \n",
       "50%      0.000000   14.454200  \n",
       "75%      0.000000   31.000000  \n",
       "max      6.000000  512.329200  "
      ]
     },
     "execution_count": 2,
     "metadata": {},
     "output_type": "execute_result"
    }
   ],
   "source": [
    "titanic_df.describe()"
   ]
  },
  {
   "cell_type": "code",
   "execution_count": 4,
   "metadata": {},
   "outputs": [
    {
     "data": {
      "text/html": [
       "<div>\n",
       "<table border=\"1\" class=\"dataframe\">\n",
       "  <thead>\n",
       "    <tr style=\"text-align: right;\">\n",
       "      <th></th>\n",
       "      <th>PassengerId</th>\n",
       "      <th>Survived</th>\n",
       "      <th>Pclass</th>\n",
       "      <th>Name</th>\n",
       "      <th>Sex</th>\n",
       "      <th>Age</th>\n",
       "      <th>SibSp</th>\n",
       "      <th>Parch</th>\n",
       "      <th>Ticket</th>\n",
       "      <th>Fare</th>\n",
       "      <th>Cabin</th>\n",
       "      <th>Embarked</th>\n",
       "    </tr>\n",
       "  </thead>\n",
       "  <tbody>\n",
       "    <tr>\n",
       "      <th>0</th>\n",
       "      <td>1</td>\n",
       "      <td>0</td>\n",
       "      <td>3</td>\n",
       "      <td>Braund, Mr. Owen Harris</td>\n",
       "      <td>male</td>\n",
       "      <td>22.0</td>\n",
       "      <td>1</td>\n",
       "      <td>0</td>\n",
       "      <td>A/5 21171</td>\n",
       "      <td>7.2500</td>\n",
       "      <td>NaN</td>\n",
       "      <td>S</td>\n",
       "    </tr>\n",
       "    <tr>\n",
       "      <th>1</th>\n",
       "      <td>2</td>\n",
       "      <td>1</td>\n",
       "      <td>1</td>\n",
       "      <td>Cumings, Mrs. John Bradley (Florence Briggs Th...</td>\n",
       "      <td>female</td>\n",
       "      <td>38.0</td>\n",
       "      <td>1</td>\n",
       "      <td>0</td>\n",
       "      <td>PC 17599</td>\n",
       "      <td>71.2833</td>\n",
       "      <td>C85</td>\n",
       "      <td>C</td>\n",
       "    </tr>\n",
       "    <tr>\n",
       "      <th>2</th>\n",
       "      <td>3</td>\n",
       "      <td>1</td>\n",
       "      <td>3</td>\n",
       "      <td>Heikkinen, Miss. Laina</td>\n",
       "      <td>female</td>\n",
       "      <td>26.0</td>\n",
       "      <td>0</td>\n",
       "      <td>0</td>\n",
       "      <td>STON/O2. 3101282</td>\n",
       "      <td>7.9250</td>\n",
       "      <td>NaN</td>\n",
       "      <td>S</td>\n",
       "    </tr>\n",
       "    <tr>\n",
       "      <th>3</th>\n",
       "      <td>4</td>\n",
       "      <td>1</td>\n",
       "      <td>1</td>\n",
       "      <td>Futrelle, Mrs. Jacques Heath (Lily May Peel)</td>\n",
       "      <td>female</td>\n",
       "      <td>35.0</td>\n",
       "      <td>1</td>\n",
       "      <td>0</td>\n",
       "      <td>113803</td>\n",
       "      <td>53.1000</td>\n",
       "      <td>C123</td>\n",
       "      <td>S</td>\n",
       "    </tr>\n",
       "    <tr>\n",
       "      <th>4</th>\n",
       "      <td>5</td>\n",
       "      <td>0</td>\n",
       "      <td>3</td>\n",
       "      <td>Allen, Mr. William Henry</td>\n",
       "      <td>male</td>\n",
       "      <td>35.0</td>\n",
       "      <td>0</td>\n",
       "      <td>0</td>\n",
       "      <td>373450</td>\n",
       "      <td>8.0500</td>\n",
       "      <td>NaN</td>\n",
       "      <td>S</td>\n",
       "    </tr>\n",
       "  </tbody>\n",
       "</table>\n",
       "</div>"
      ],
      "text/plain": [
       "   PassengerId  Survived  Pclass  \\\n",
       "0            1         0       3   \n",
       "1            2         1       1   \n",
       "2            3         1       3   \n",
       "3            4         1       1   \n",
       "4            5         0       3   \n",
       "\n",
       "                                                Name     Sex   Age  SibSp  \\\n",
       "0                            Braund, Mr. Owen Harris    male  22.0      1   \n",
       "1  Cumings, Mrs. John Bradley (Florence Briggs Th...  female  38.0      1   \n",
       "2                             Heikkinen, Miss. Laina  female  26.0      0   \n",
       "3       Futrelle, Mrs. Jacques Heath (Lily May Peel)  female  35.0      1   \n",
       "4                           Allen, Mr. William Henry    male  35.0      0   \n",
       "\n",
       "   Parch            Ticket     Fare Cabin Embarked  \n",
       "0      0         A/5 21171   7.2500   NaN        S  \n",
       "1      0          PC 17599  71.2833   C85        C  \n",
       "2      0  STON/O2. 3101282   7.9250   NaN        S  \n",
       "3      0            113803  53.1000  C123        S  \n",
       "4      0            373450   8.0500   NaN        S  "
      ]
     },
     "execution_count": 4,
     "metadata": {},
     "output_type": "execute_result"
    }
   ],
   "source": [
    "titanic_df.head()"
   ]
  },
  {
   "cell_type": "markdown",
   "metadata": {},
   "source": [
    "Looking at the tables above, I see that we are missing almost 200 entries in the Age column. This will make age a little less statistically useful compared to the categories of sex and ticket class.  We also see that the vast majority of cabin numbers are missing.  And, that we are missing 2 embarkation entries.  For the purpose of this analysis, I will ignore embarkation.  However, because I want to include age category as a independant variable, I am going to take a sub-set of the data which does not include anyone who's age is not entered.  "
   ]
  },
  {
   "cell_type": "code",
   "execution_count": 5,
   "metadata": {
    "collapsed": true
   },
   "outputs": [],
   "source": [
    "# Taking out entries where there is no age.\n",
    "titanic_df['Age'] = titanic_df['Age'].astype('float64')\n",
    "\n",
    "\n",
    "titanic_df.dropna(axis=0, subset = ['Age'], inplace=True)\n",
    "\n",
    "pd.set_option('precision', 2)"
   ]
  },
  {
   "cell_type": "code",
   "execution_count": 6,
   "metadata": {},
   "outputs": [
    {
     "name": "stdout",
     "output_type": "stream",
     "text": [
      "<class 'pandas.core.frame.DataFrame'>\n",
      "Int64Index: 714 entries, 0 to 890\n",
      "Data columns (total 12 columns):\n",
      "PassengerId    714 non-null int64\n",
      "Survived       714 non-null int64\n",
      "Pclass         714 non-null int64\n",
      "Name           714 non-null object\n",
      "Sex            714 non-null object\n",
      "Age            714 non-null float64\n",
      "SibSp          714 non-null int64\n",
      "Parch          714 non-null int64\n",
      "Ticket         714 non-null object\n",
      "Fare           714 non-null float64\n",
      "Cabin          185 non-null object\n",
      "Embarked       712 non-null object\n",
      "dtypes: float64(2), int64(5), object(5)\n",
      "memory usage: 72.5+ KB\n"
     ]
    }
   ],
   "source": [
    "titanic_df.info()"
   ]
  },
  {
   "cell_type": "code",
   "execution_count": 7,
   "metadata": {},
   "outputs": [
    {
     "data": {
      "text/html": [
       "<div>\n",
       "<table border=\"1\" class=\"dataframe\">\n",
       "  <thead>\n",
       "    <tr style=\"text-align: right;\">\n",
       "      <th></th>\n",
       "      <th>PassengerId</th>\n",
       "      <th>Survived</th>\n",
       "      <th>Pclass</th>\n",
       "      <th>Age</th>\n",
       "      <th>SibSp</th>\n",
       "      <th>Parch</th>\n",
       "      <th>Fare</th>\n",
       "    </tr>\n",
       "  </thead>\n",
       "  <tbody>\n",
       "    <tr>\n",
       "      <th>count</th>\n",
       "      <td>714.00</td>\n",
       "      <td>714.00</td>\n",
       "      <td>714.00</td>\n",
       "      <td>714.00</td>\n",
       "      <td>714.00</td>\n",
       "      <td>714.00</td>\n",
       "      <td>714.00</td>\n",
       "    </tr>\n",
       "    <tr>\n",
       "      <th>mean</th>\n",
       "      <td>448.58</td>\n",
       "      <td>0.41</td>\n",
       "      <td>2.24</td>\n",
       "      <td>29.70</td>\n",
       "      <td>0.51</td>\n",
       "      <td>0.43</td>\n",
       "      <td>34.69</td>\n",
       "    </tr>\n",
       "    <tr>\n",
       "      <th>std</th>\n",
       "      <td>259.12</td>\n",
       "      <td>0.49</td>\n",
       "      <td>0.84</td>\n",
       "      <td>14.53</td>\n",
       "      <td>0.93</td>\n",
       "      <td>0.85</td>\n",
       "      <td>52.92</td>\n",
       "    </tr>\n",
       "    <tr>\n",
       "      <th>min</th>\n",
       "      <td>1.00</td>\n",
       "      <td>0.00</td>\n",
       "      <td>1.00</td>\n",
       "      <td>0.42</td>\n",
       "      <td>0.00</td>\n",
       "      <td>0.00</td>\n",
       "      <td>0.00</td>\n",
       "    </tr>\n",
       "    <tr>\n",
       "      <th>25%</th>\n",
       "      <td>222.25</td>\n",
       "      <td>0.00</td>\n",
       "      <td>1.00</td>\n",
       "      <td>20.12</td>\n",
       "      <td>0.00</td>\n",
       "      <td>0.00</td>\n",
       "      <td>8.05</td>\n",
       "    </tr>\n",
       "    <tr>\n",
       "      <th>50%</th>\n",
       "      <td>445.00</td>\n",
       "      <td>0.00</td>\n",
       "      <td>2.00</td>\n",
       "      <td>28.00</td>\n",
       "      <td>0.00</td>\n",
       "      <td>0.00</td>\n",
       "      <td>15.74</td>\n",
       "    </tr>\n",
       "    <tr>\n",
       "      <th>75%</th>\n",
       "      <td>677.75</td>\n",
       "      <td>1.00</td>\n",
       "      <td>3.00</td>\n",
       "      <td>38.00</td>\n",
       "      <td>1.00</td>\n",
       "      <td>1.00</td>\n",
       "      <td>33.38</td>\n",
       "    </tr>\n",
       "    <tr>\n",
       "      <th>max</th>\n",
       "      <td>891.00</td>\n",
       "      <td>1.00</td>\n",
       "      <td>3.00</td>\n",
       "      <td>80.00</td>\n",
       "      <td>5.00</td>\n",
       "      <td>6.00</td>\n",
       "      <td>512.33</td>\n",
       "    </tr>\n",
       "  </tbody>\n",
       "</table>\n",
       "</div>"
      ],
      "text/plain": [
       "       PassengerId  Survived  Pclass     Age   SibSp   Parch    Fare\n",
       "count       714.00    714.00  714.00  714.00  714.00  714.00  714.00\n",
       "mean        448.58      0.41    2.24   29.70    0.51    0.43   34.69\n",
       "std         259.12      0.49    0.84   14.53    0.93    0.85   52.92\n",
       "min           1.00      0.00    1.00    0.42    0.00    0.00    0.00\n",
       "25%         222.25      0.00    1.00   20.12    0.00    0.00    8.05\n",
       "50%         445.00      0.00    2.00   28.00    0.00    0.00   15.74\n",
       "75%         677.75      1.00    3.00   38.00    1.00    1.00   33.38\n",
       "max         891.00      1.00    3.00   80.00    5.00    6.00  512.33"
      ]
     },
     "execution_count": 7,
     "metadata": {},
     "output_type": "execute_result"
    }
   ],
   "source": [
    "titanic_df.describe()"
   ]
  },
  {
   "cell_type": "code",
   "execution_count": 21,
   "metadata": {},
   "outputs": [
    {
     "data": {
      "text/html": [
       "<div>\n",
       "<table border=\"1\" class=\"dataframe\">\n",
       "  <thead>\n",
       "    <tr style=\"text-align: right;\">\n",
       "      <th></th>\n",
       "      <th>Age</th>\n",
       "    </tr>\n",
       "  </thead>\n",
       "  <tbody>\n",
       "    <tr>\n",
       "      <th>count</th>\n",
       "      <td>714.00</td>\n",
       "    </tr>\n",
       "    <tr>\n",
       "      <th>mean</th>\n",
       "      <td>29.70</td>\n",
       "    </tr>\n",
       "    <tr>\n",
       "      <th>std</th>\n",
       "      <td>14.53</td>\n",
       "    </tr>\n",
       "    <tr>\n",
       "      <th>min</th>\n",
       "      <td>0.42</td>\n",
       "    </tr>\n",
       "    <tr>\n",
       "      <th>25%</th>\n",
       "      <td>20.12</td>\n",
       "    </tr>\n",
       "    <tr>\n",
       "      <th>50%</th>\n",
       "      <td>28.00</td>\n",
       "    </tr>\n",
       "    <tr>\n",
       "      <th>75%</th>\n",
       "      <td>38.00</td>\n",
       "    </tr>\n",
       "    <tr>\n",
       "      <th>max</th>\n",
       "      <td>80.00</td>\n",
       "    </tr>\n",
       "  </tbody>\n",
       "</table>\n",
       "</div>"
      ],
      "text/plain": [
       "          Age\n",
       "count  714.00\n",
       "mean    29.70\n",
       "std     14.53\n",
       "min      0.42\n",
       "25%     20.12\n",
       "50%     28.00\n",
       "75%     38.00\n",
       "max     80.00"
      ]
     },
     "execution_count": 21,
     "metadata": {},
     "output_type": "execute_result"
    },
    {
     "data": {
      "image/png": "[encoded data removed]",
      "text/plain": [
       "<matplotlib.figure.Figure at 0x10f60c090>"
      ]
     },
     "metadata": {},
     "output_type": "display_data"
    }
   ],
   "source": [
    "%matplotlib inline\n",
    "import matplotlib.pyplot as plt\n",
    "import numpy as np\n",
    "import pandas as pd \n",
    "import seaborn as sns\n",
    "\n",
    "ax = titanic_df['Age'].hist(bins = (25))\n",
    "ax.set_ylabel('Number of Passengers')\n",
    "ax.set_xlabel('Age')\n",
    "ax.set_title('Age Distb. Passengers')\n",
    "pd.DataFrame(titanic_df['Age'].describe())\n"
   ]
  },
  {
   "cell_type": "markdown",
   "metadata": {},
   "source": [
    "From this histogram, we see that the data is almost normally distributed, but it show there are more people under 20 than over 60. We also see that the largest bin is 20-30 year olds.  This helps me determine the ages I want to use for my age groups(children, adults, elderly).  Below, I will compate this histogram to the same one for people who survived only."
   ]
  },
  {
   "cell_type": "code",
   "execution_count": 29,
   "metadata": {
    "collapsed": true
   },
   "outputs": [],
   "source": [
    "survived = titanic_df[titanic_df.Survived == 1].copy()"
   ]
  },
  {
   "cell_type": "code",
   "execution_count": 33,
   "metadata": {},
   "outputs": [
    {
     "data": {
      "text/html": [
       "<div>\n",
       "<table border=\"1\" class=\"dataframe\">\n",
       "  <thead>\n",
       "    <tr style=\"text-align: right;\">\n",
       "      <th></th>\n",
       "      <th>Age</th>\n",
       "    </tr>\n",
       "  </thead>\n",
       "  <tbody>\n",
       "    <tr>\n",
       "      <th>count</th>\n",
       "      <td>290.00</td>\n",
       "    </tr>\n",
       "    <tr>\n",
       "      <th>mean</th>\n",
       "      <td>28.34</td>\n",
       "    </tr>\n",
       "    <tr>\n",
       "      <th>std</th>\n",
       "      <td>14.95</td>\n",
       "    </tr>\n",
       "    <tr>\n",
       "      <th>min</th>\n",
       "      <td>0.42</td>\n",
       "    </tr>\n",
       "    <tr>\n",
       "      <th>25%</th>\n",
       "      <td>19.00</td>\n",
       "    </tr>\n",
       "    <tr>\n",
       "      <th>50%</th>\n",
       "      <td>28.00</td>\n",
       "    </tr>\n",
       "    <tr>\n",
       "      <th>75%</th>\n",
       "      <td>36.00</td>\n",
       "    </tr>\n",
       "    <tr>\n",
       "      <th>max</th>\n",
       "      <td>80.00</td>\n",
       "    </tr>\n",
       "  </tbody>\n",
       "</table>\n",
       "</div>"
      ],
      "text/plain": [
       "          Age\n",
       "count  290.00\n",
       "mean    28.34\n",
       "std     14.95\n",
       "min      0.42\n",
       "25%     19.00\n",
       "50%     28.00\n",
       "75%     36.00\n",
       "max     80.00"
      ]
     },
     "execution_count": 33,
     "metadata": {},
     "output_type": "execute_result"
    },
    {
     "data": {
      "image/png": "[encoded data removed]",
      "text/plain": [
       "<matplotlib.figure.Figure at 0x10f677850>"
      ]
     },
     "metadata": {},
     "output_type": "display_data"
    }
   ],
   "source": [
    "%matplotlib inline\n",
    "import matplotlib.pyplot as plt\n",
    "import numpy as np\n",
    "import pandas as pd \n",
    "import seaborn as sns\n",
    "\n",
    "ax = survived['Age'].hist(bins = (25))\n",
    "ax.set_ylabel('Number of Passengers')\n",
    "ax.set_xlabel('Age')\n",
    "ax.set_title('Age Distb. of Passengers who survived')\n",
    "pd.DataFrame(survived['Age'].describe())\n"
   ]
  },
  {
   "cell_type": "markdown",
   "metadata": {},
   "source": [
    "Comparing the three above histogram to the one for the overall sample, we see a noticable gap that shows there are almost no survivors of people 63 and over. And, it seems that if children are very young, about less than 7, the survival is much better than for those about 7-14.  This is probably because children under 7 are almost always with their parents or caretaker."
   ]
  },
  {
   "cell_type": "markdown",
   "metadata": {},
   "source": [
    "Using what we learned about age distributions above, I will create 4 categories: children under 7, children 7-14, adults 15-58 and 58 and over (seniors). #I later went back and adjusted this so that there were over 30 teens in the group teens."
   ]
  },
  {
   "cell_type": "code",
   "execution_count": 107,
   "metadata": {
    "collapsed": true
   },
   "outputs": [],
   "source": [
    "    # Filter by age, make a copy, and save as a new dataframe for each age bracket\n",
    "young_children = titanic_df[titanic_df.Age < 7].copy()\n",
    "teens = titanic_df[(titanic_df.Age >= 7) & (titanic_df.Age < 16)].copy() \n",
    "adults = titanic_df[(titanic_df.Age >= 16) & (titanic_df.Age < 58)].copy()  \n",
    "seniors = titanic_df[titanic_df.Age >= 58].copy() "
   ]
  },
  {
   "cell_type": "code",
   "execution_count": 108,
   "metadata": {},
   "outputs": [
    {
     "name": "stdout",
     "output_type": "stream",
     "text": [
      "PassengerId    47\n",
      "Survived       47\n",
      "Pclass         47\n",
      "Name           47\n",
      "Sex            47\n",
      "Age            47\n",
      "SibSp          47\n",
      "Parch          47\n",
      "Ticket         47\n",
      "Fare           47\n",
      "Cabin          10\n",
      "Embarked       47\n",
      "dtype: int64\n"
     ]
    }
   ],
   "source": [
    "print young_children.count()"
   ]
  },
  {
   "cell_type": "markdown",
   "metadata": {},
   "source": [
    "Checking that I have at least 30 values for Chi squared test."
   ]
  },
  {
   "cell_type": "code",
   "execution_count": 111,
   "metadata": {},
   "outputs": [
    {
     "name": "stdout",
     "output_type": "stream",
     "text": [
      "PassengerId    36\n",
      "Survived       36\n",
      "Pclass         36\n",
      "Name           36\n",
      "Sex            36\n",
      "Age            36\n",
      "SibSp          36\n",
      "Parch          36\n",
      "Ticket         36\n",
      "Fare           36\n",
      "Cabin           3\n",
      "Embarked       36\n",
      "dtype: int64\n"
     ]
    }
   ],
   "source": [
    "print teens.count()"
   ]
  },
  {
   "cell_type": "markdown",
   "metadata": {},
   "source": [
    "It looks like I need to expand the teen age bracket to get more than 30 results for the chi squared test."
   ]
  },
  {
   "cell_type": "code",
   "execution_count": 112,
   "metadata": {},
   "outputs": [
    {
     "name": "stdout",
     "output_type": "stream",
     "text": [
      "PassengerId    36\n",
      "Survived       36\n",
      "Pclass         36\n",
      "Name           36\n",
      "Sex            36\n",
      "Age            36\n",
      "SibSp          36\n",
      "Parch          36\n",
      "Ticket         36\n",
      "Fare           36\n",
      "Cabin           3\n",
      "Embarked       36\n",
      "dtype: int64\n"
     ]
    }
   ],
   "source": [
    "# recount teens to include up to 16 yrs old instead of 15\n",
    "print teens.count()"
   ]
  },
  {
   "cell_type": "code",
   "execution_count": 115,
   "metadata": {},
   "outputs": [
    {
     "name": "stdout",
     "output_type": "stream",
     "text": [
      "PassengerId    598\n",
      "Survived       598\n",
      "Pclass         598\n",
      "Name           598\n",
      "Sex            598\n",
      "Age            598\n",
      "SibSp          598\n",
      "Parch          598\n",
      "Ticket         598\n",
      "Fare           598\n",
      "Cabin          154\n",
      "Embarked       597\n",
      "dtype: int64\n"
     ]
    }
   ],
   "source": [
    "print adults.count()"
   ]
  },
  {
   "cell_type": "code",
   "execution_count": 118,
   "metadata": {},
   "outputs": [
    {
     "name": "stdout",
     "output_type": "stream",
     "text": [
      "PassengerId    33\n",
      "Survived       33\n",
      "Pclass         33\n",
      "Name           33\n",
      "Sex            33\n",
      "Age            33\n",
      "SibSp          33\n",
      "Parch          33\n",
      "Ticket         33\n",
      "Fare           33\n",
      "Cabin          18\n",
      "Embarked       32\n",
      "dtype: int64\n"
     ]
    }
   ],
   "source": [
    "print seniors.count()"
   ]
  },
  {
   "cell_type": "code",
   "execution_count": 139,
   "metadata": {
    "collapsed": true
   },
   "outputs": [],
   "source": [
    "males = titanic_df[titanic_df.Sex == 'male'].copy()\n",
    "females = titanic_df[titanic_df.Sex == 'female'].copy()\n"
   ]
  },
  {
   "cell_type": "code",
   "execution_count": 141,
   "metadata": {},
   "outputs": [
    {
     "data": {
      "text/plain": [
       "PassengerId    453\n",
       "Survived       453\n",
       "Pclass         453\n",
       "Name           453\n",
       "Sex            453\n",
       "Age            453\n",
       "SibSp          453\n",
       "Parch          453\n",
       "Ticket         453\n",
       "Fare           453\n",
       "Cabin           95\n",
       "Embarked       453\n",
       "dtype: int64"
      ]
     },
     "execution_count": 141,
     "metadata": {},
     "output_type": "execute_result"
    }
   ],
   "source": [
    "males.count()"
   ]
  },
  {
   "cell_type": "code",
   "execution_count": 129,
   "metadata": {},
   "outputs": [
    {
     "data": {
      "text/plain": [
       "PassengerId    261\n",
       "Survived       261\n",
       "Pclass         261\n",
       "Name           261\n",
       "Sex            261\n",
       "Age            261\n",
       "SibSp          261\n",
       "Parch          261\n",
       "Ticket         261\n",
       "Fare           261\n",
       "Cabin           90\n",
       "Embarked       259\n",
       "dtype: int64"
      ]
     },
     "execution_count": 129,
     "metadata": {},
     "output_type": "execute_result"
    }
   ],
   "source": [
    "females.count()"
   ]
  },
  {
   "cell_type": "markdown",
   "metadata": {},
   "source": [
    "Looking at the Chi squared values above for each age group independently and sex male and female doesn't help much. So, I will take the three groups (sex, age group, and class) and see how related a person's belonging to a sub-category of one of these categories are related to survival.  (ie for class: 1,2,3)"
   ]
  },
  {
   "cell_type": "code",
   "execution_count": 83,
   "metadata": {},
   "outputs": [
    {
     "data": {
      "text/html": [
       "<div>\n",
       "<table border=\"1\" class=\"dataframe\">\n",
       "  <thead>\n",
       "    <tr style=\"text-align: right;\">\n",
       "      <th></th>\n",
       "      <th>0</th>\n",
       "      <th>1</th>\n",
       "      <th>row_totals</th>\n",
       "    </tr>\n",
       "  </thead>\n",
       "  <tbody>\n",
       "    <tr>\n",
       "      <th>female</th>\n",
       "      <td>64</td>\n",
       "      <td>197</td>\n",
       "      <td>261</td>\n",
       "    </tr>\n",
       "    <tr>\n",
       "      <th>male</th>\n",
       "      <td>360</td>\n",
       "      <td>93</td>\n",
       "      <td>453</td>\n",
       "    </tr>\n",
       "    <tr>\n",
       "      <th>col_totals</th>\n",
       "      <td>424</td>\n",
       "      <td>290</td>\n",
       "      <td>714</td>\n",
       "    </tr>\n",
       "  </tbody>\n",
       "</table>\n",
       "</div>"
      ],
      "text/plain": [
       "              0    1  row_totals\n",
       "female       64  197         261\n",
       "male        360   93         453\n",
       "col_totals  424  290         714"
      ]
     },
     "execution_count": 83,
     "metadata": {},
     "output_type": "execute_result"
    }
   ],
   "source": [
    "import numpy as np\n",
    "import pandas as pd\n",
    "import seaborn as sns\n",
    "import scipy.stats as stats\n",
    "\n",
    "# Test for independence of variables for Sex and Survivorship, ChiSquared\n",
    "\n",
    "sex_tab = pd.crosstab(titanic_df.Sex, titanic_df.Survived, margins = True)\n",
    "\n",
    "sex_tab.columns = [\"0\",\"1\",\"row_totals\"]\n",
    "\n",
    "sex_tab.index = [\"female\",\"male\",\"col_totals\"]\n",
    "\n",
    "observed = sex_tab.ix[0:2,0:2]\n",
    "sex_tab\n"
   ]
  },
  {
   "cell_type": "code",
   "execution_count": 88,
   "metadata": {},
   "outputs": [
    {
     "data": {
      "text/html": [
       "<div>\n",
       "<table border=\"1\" class=\"dataframe\">\n",
       "  <thead>\n",
       "    <tr style=\"text-align: right;\">\n",
       "      <th></th>\n",
       "      <th>0</th>\n",
       "      <th>1</th>\n",
       "    </tr>\n",
       "  </thead>\n",
       "  <tbody>\n",
       "    <tr>\n",
       "      <th>female</th>\n",
       "      <td>154</td>\n",
       "      <td>106</td>\n",
       "    </tr>\n",
       "    <tr>\n",
       "      <th>male</th>\n",
       "      <td>269</td>\n",
       "      <td>183</td>\n",
       "    </tr>\n",
       "  </tbody>\n",
       "</table>\n",
       "</div>"
      ],
      "text/plain": [
       "          0    1\n",
       "female  154  106\n",
       "male    269  183"
      ]
     },
     "execution_count": 88,
     "metadata": {},
     "output_type": "execute_result"
    }
   ],
   "source": [
    "import numpy as np\n",
    "import pandas as pd\n",
    "import seaborn as sns\n",
    "import scipy.stats as stats\n",
    "\n",
    "\n",
    "expected = np.outer(sex_tab[\"row_totals\"][0:2], \n",
    "                    sex_tab.ix[\"col_totals\"][0:2]) / 714\n",
    "\n",
    "\n",
    "expected = pd.DataFrame(expected)\n",
    "\n",
    "expected \n",
    "\n",
    "expected.columns = [\"0\",\"1\"]\n",
    "expected.index = [\"female\",\"male\"]\n",
    "\n",
    "expected"
   ]
  },
  {
   "cell_type": "code",
   "execution_count": 89,
   "metadata": {},
   "outputs": [
    {
     "name": "stdout",
     "output_type": "stream",
     "text": [
      "205.766725806\n"
     ]
    }
   ],
   "source": [
    "chi_squared_stat = (((observed-expected)**2)/expected).sum().sum()\n",
    "\n",
    "print(chi_squared_stat)"
   ]
  },
  {
   "cell_type": "code",
   "execution_count": 90,
   "metadata": {},
   "outputs": [
    {
     "name": "stdout",
     "output_type": "stream",
     "text": [
      "Critical value\n",
      "3.84145882069\n",
      "P value\n",
      "0.0\n"
     ]
    }
   ],
   "source": [
    "crit = stats.chi2.ppf(q = 0.95, # Find the critical value for 95% confidence*\n",
    "                      df = 1)   # *\n",
    "\n",
    "print(\"Critical value\")\n",
    "print(crit)\n",
    "\n",
    "p_value = 1 - stats.chi2.cdf(x=chi_squared_stat,  # Find the p-value\n",
    "                             df=8)\n",
    "print(\"P value\")\n",
    "print(p_value)"
   ]
  },
  {
   "cell_type": "markdown",
   "metadata": {},
   "source": [
    "Based on the above Chi Squared Stat, and the related chi square critical value printed above, we see that which sex a person is has an extremely high relationship to survival."
   ]
  },
  {
   "cell_type": "code",
   "execution_count": 175,
   "metadata": {
    "collapsed": true
   },
   "outputs": [],
   "source": [
    "#convert age to group function\n",
    "\n",
    "def convert_age(i):\n",
    "    if i in range(0,8):\n",
    "        return 'young_child'\n",
    "    elif i in range(8,17):\n",
    "        return 'child_teens'\n",
    "    elif i in range(17,58):\n",
    "        return 'adults'\n",
    "    else:\n",
    "        return 'seniors'\n",
    "    \n"
   ]
  },
  {
   "cell_type": "code",
   "execution_count": 176,
   "metadata": {},
   "outputs": [
    {
     "data": {
      "text/plain": [
       "'child_teens'"
      ]
     },
     "execution_count": 176,
     "metadata": {},
     "output_type": "execute_result"
    }
   ],
   "source": [
    "convert_age(8)"
   ]
  },
  {
   "cell_type": "code",
   "execution_count": 177,
   "metadata": {},
   "outputs": [
    {
     "name": "stdout",
     "output_type": "stream",
     "text": [
      "<bound method Series.head of 0           adults\n",
      "1           adults\n",
      "2           adults\n",
      "3           adults\n",
      "4           adults\n",
      "6           adults\n",
      "7      young_child\n",
      "8           adults\n",
      "9      child_teens\n",
      "10     young_child\n",
      "11         seniors\n",
      "12          adults\n",
      "13          adults\n",
      "14     child_teens\n",
      "15          adults\n",
      "16     young_child\n",
      "18          adults\n",
      "20          adults\n",
      "21          adults\n",
      "22     child_teens\n",
      "23          adults\n",
      "24     child_teens\n",
      "25          adults\n",
      "27          adults\n",
      "30          adults\n",
      "33         seniors\n",
      "34          adults\n",
      "35          adults\n",
      "37          adults\n",
      "38          adults\n",
      "          ...     \n",
      "856         adults\n",
      "857         adults\n",
      "858         adults\n",
      "860         adults\n",
      "861         adults\n",
      "862         adults\n",
      "864         adults\n",
      "865         adults\n",
      "866         adults\n",
      "867         adults\n",
      "869    young_child\n",
      "870         adults\n",
      "871         adults\n",
      "872         adults\n",
      "873         adults\n",
      "874         adults\n",
      "875    child_teens\n",
      "876         adults\n",
      "877         adults\n",
      "879         adults\n",
      "880         adults\n",
      "881         adults\n",
      "882         adults\n",
      "883         adults\n",
      "884         adults\n",
      "885         adults\n",
      "886         adults\n",
      "887         adults\n",
      "889         adults\n",
      "890         adults\n",
      "Name: Age_groups, dtype: object>\n"
     ]
    }
   ],
   "source": [
    "#apply funtion to Age_New and create new column with .apply called Age_groups\n",
    "def group_age(age):\n",
    "    return titanic_df.apply\n",
    "\n",
    "titanic_df['Age_groups'] = titanic_df['Age'].apply(convert_age)\n",
    "    \n",
    "print titanic_df['Age_groups'].head"
   ]
  },
  {
   "cell_type": "code",
   "execution_count": 196,
   "metadata": {},
   "outputs": [
    {
     "data": {
      "text/html": [
       "<div>\n",
       "<table border=\"1\" class=\"dataframe\">\n",
       "  <thead>\n",
       "    <tr style=\"text-align: right;\">\n",
       "      <th></th>\n",
       "      <th>0</th>\n",
       "      <th>1</th>\n",
       "      <th>row_totals</th>\n",
       "    </tr>\n",
       "  </thead>\n",
       "  <tbody>\n",
       "    <tr>\n",
       "      <th>young_child</th>\n",
       "      <td>341</td>\n",
       "      <td>224</td>\n",
       "      <td>565</td>\n",
       "    </tr>\n",
       "    <tr>\n",
       "      <th>child_teens</th>\n",
       "      <td>28</td>\n",
       "      <td>21</td>\n",
       "      <td>49</td>\n",
       "    </tr>\n",
       "    <tr>\n",
       "      <th>adults</th>\n",
       "      <td>39</td>\n",
       "      <td>18</td>\n",
       "      <td>57</td>\n",
       "    </tr>\n",
       "    <tr>\n",
       "      <th>seniors</th>\n",
       "      <td>16</td>\n",
       "      <td>27</td>\n",
       "      <td>43</td>\n",
       "    </tr>\n",
       "    <tr>\n",
       "      <th>col_totals</th>\n",
       "      <td>424</td>\n",
       "      <td>290</td>\n",
       "      <td>714</td>\n",
       "    </tr>\n",
       "  </tbody>\n",
       "</table>\n",
       "</div>"
      ],
      "text/plain": [
       "               0    1  row_totals\n",
       "young_child  341  224         565\n",
       "child_teens   28   21          49\n",
       "adults        39   18          57\n",
       "seniors       16   27          43\n",
       "col_totals   424  290         714"
      ]
     },
     "execution_count": 196,
     "metadata": {},
     "output_type": "execute_result"
    }
   ],
   "source": [
    "# Test for independence of variables for Age group and Survivorship, ChiSquared\n",
    "\n",
    "age_tab = pd.crosstab(titanic_df.Age_groups, titanic_df.Survived, margins = True)\n",
    "\n",
    "age_tab.columns = [\"0\",\"1\",\"row_totals\"]\n",
    "\n",
    "age_tab.index = [\"young_child\",\"child_teens\",\"adults\",\"seniors\",\"col_totals\"]\n",
    "\n",
    "observed_age = age_tab.ix[0:4,0:2]\n",
    "age_tab\n"
   ]
  },
  {
   "cell_type": "code",
   "execution_count": 199,
   "metadata": {},
   "outputs": [
    {
     "data": {
      "text/html": [
       "<div>\n",
       "<table border=\"1\" class=\"dataframe\">\n",
       "  <thead>\n",
       "    <tr style=\"text-align: right;\">\n",
       "      <th></th>\n",
       "      <th>0</th>\n",
       "      <th>1</th>\n",
       "    </tr>\n",
       "  </thead>\n",
       "  <tbody>\n",
       "    <tr>\n",
       "      <th>young_child</th>\n",
       "      <td>335</td>\n",
       "      <td>229</td>\n",
       "    </tr>\n",
       "    <tr>\n",
       "      <th>child_teens</th>\n",
       "      <td>29</td>\n",
       "      <td>19</td>\n",
       "    </tr>\n",
       "    <tr>\n",
       "      <th>adults</th>\n",
       "      <td>33</td>\n",
       "      <td>23</td>\n",
       "    </tr>\n",
       "    <tr>\n",
       "      <th>seniors</th>\n",
       "      <td>25</td>\n",
       "      <td>17</td>\n",
       "    </tr>\n",
       "  </tbody>\n",
       "</table>\n",
       "</div>"
      ],
      "text/plain": [
       "               0    1\n",
       "young_child  335  229\n",
       "child_teens   29   19\n",
       "adults        33   23\n",
       "seniors       25   17"
      ]
     },
     "execution_count": 199,
     "metadata": {},
     "output_type": "execute_result"
    }
   ],
   "source": [
    "expected_age = np.outer(age_tab[\"row_totals\"][0:4], \n",
    "                    age_tab.ix[\"col_totals\"][0:2]) / 714\n",
    "\n",
    "\n",
    "expected_age = pd.DataFrame(expected_age)\n",
    "\n",
    "expected_age \n",
    "\n",
    "expected_age.columns = [\"0\",\"1\"]\n",
    "expected_age.index = [\"young_child\",\"child_teens\",\"adults\",\"seniors\"]\n",
    "\n",
    "expected_age\n",
    "\n"
   ]
  },
  {
   "cell_type": "code",
   "execution_count": 200,
   "metadata": {},
   "outputs": [
    {
     "name": "stdout",
     "output_type": "stream",
     "text": [
      "11.7618606205\n"
     ]
    }
   ],
   "source": [
    "chi_squared_stat = (((observed_age-expected_age)**2)/expected_age).sum().sum()\n",
    "\n",
    "print(chi_squared_stat)"
   ]
  },
  {
   "cell_type": "code",
   "execution_count": 201,
   "metadata": {},
   "outputs": [
    {
     "name": "stdout",
     "output_type": "stream",
     "text": [
      "Critical value\n",
      "7.81472790325\n",
      "P value\n",
      "0.162149522142\n"
     ]
    }
   ],
   "source": [
    "crit = stats.chi2.ppf(q = 0.95, # Find the critical value for 95% confidence*\n",
    "                      df = 3)   # *\n",
    "\n",
    "print(\"Critical value\")\n",
    "print(crit)\n",
    "\n",
    "p_value = 1 - stats.chi2.cdf(x=chi_squared_stat,  # Find the p-value\n",
    "                             df=8)\n",
    "print(\"P value\")\n",
    "print(p_value)"
   ]
  },
  {
   "cell_type": "markdown",
   "metadata": {},
   "source": [
    "In the case of age group, we see that the observed value was higher than the critical value for a 95% one tailed confidence interval.  Therefore, age group does have a significant relation to survival."
   ]
  },
  {
   "cell_type": "code",
   "execution_count": 208,
   "metadata": {},
   "outputs": [
    {
     "data": {
      "text/html": [
       "<div>\n",
       "<table border=\"1\" class=\"dataframe\">\n",
       "  <thead>\n",
       "    <tr style=\"text-align: right;\">\n",
       "      <th></th>\n",
       "      <th>0</th>\n",
       "      <th>1</th>\n",
       "      <th>row_totals</th>\n",
       "    </tr>\n",
       "  </thead>\n",
       "  <tbody>\n",
       "    <tr>\n",
       "      <th>1st Class</th>\n",
       "      <td>64</td>\n",
       "      <td>122</td>\n",
       "      <td>186</td>\n",
       "    </tr>\n",
       "    <tr>\n",
       "      <th>2nd Class</th>\n",
       "      <td>90</td>\n",
       "      <td>83</td>\n",
       "      <td>173</td>\n",
       "    </tr>\n",
       "    <tr>\n",
       "      <th>3rd Class</th>\n",
       "      <td>270</td>\n",
       "      <td>85</td>\n",
       "      <td>355</td>\n",
       "    </tr>\n",
       "    <tr>\n",
       "      <th>col_totals</th>\n",
       "      <td>424</td>\n",
       "      <td>290</td>\n",
       "      <td>714</td>\n",
       "    </tr>\n",
       "  </tbody>\n",
       "</table>\n",
       "</div>"
      ],
      "text/plain": [
       "              0    1  row_totals\n",
       "1st Class    64  122         186\n",
       "2nd Class    90   83         173\n",
       "3rd Class   270   85         355\n",
       "col_totals  424  290         714"
      ]
     },
     "execution_count": 208,
     "metadata": {},
     "output_type": "execute_result"
    }
   ],
   "source": [
    "# Test for independence of variables for Sex and Survivorship, ChiSquared\n",
    "\n",
    "class_tab = pd.crosstab(titanic_df.Pclass, titanic_df.Survived, margins = True)\n",
    "\n",
    "class_tab.columns = [\"0\",\"1\",\"row_totals\"]\n",
    "\n",
    "class_tab.index = [\"1st Class\",\"2nd Class\",\"3rd Class\",\"col_totals\"]\n",
    "\n",
    "observed_class = class_tab.ix[0:3,0:2]\n",
    "class_tab"
   ]
  },
  {
   "cell_type": "code",
   "execution_count": 209,
   "metadata": {},
   "outputs": [
    {
     "data": {
      "text/html": [
       "<div>\n",
       "<table border=\"1\" class=\"dataframe\">\n",
       "  <thead>\n",
       "    <tr style=\"text-align: right;\">\n",
       "      <th></th>\n",
       "      <th>0</th>\n",
       "      <th>1</th>\n",
       "    </tr>\n",
       "  </thead>\n",
       "  <tbody>\n",
       "    <tr>\n",
       "      <th>1st Class</th>\n",
       "      <td>110</td>\n",
       "      <td>75</td>\n",
       "    </tr>\n",
       "    <tr>\n",
       "      <th>2nd Class</th>\n",
       "      <td>102</td>\n",
       "      <td>70</td>\n",
       "    </tr>\n",
       "    <tr>\n",
       "      <th>3rd Class</th>\n",
       "      <td>210</td>\n",
       "      <td>144</td>\n",
       "    </tr>\n",
       "  </tbody>\n",
       "</table>\n",
       "</div>"
      ],
      "text/plain": [
       "             0    1\n",
       "1st Class  110   75\n",
       "2nd Class  102   70\n",
       "3rd Class  210  144"
      ]
     },
     "execution_count": 209,
     "metadata": {},
     "output_type": "execute_result"
    }
   ],
   "source": [
    "\n",
    "expected_class = np.outer(class_tab[\"row_totals\"][0:3], \n",
    "                    class_tab.ix[\"col_totals\"][0:2]) / 714\n",
    "\n",
    "\n",
    "expected_class = pd.DataFrame(expected_class)\n",
    "\n",
    "expected_class\n",
    "\n",
    "expected_class.columns = [\"0\",\"1\"]\n",
    "expected_class.index = [\"1st Class\",\"2nd Class\",\"3rd Class\"]\n",
    "\n",
    "expected_class\n",
    "\n"
   ]
  },
  {
   "cell_type": "code",
   "execution_count": 210,
   "metadata": {},
   "outputs": [
    {
     "name": "stdout",
     "output_type": "stream",
     "text": [
      "93.8322156438\n"
     ]
    }
   ],
   "source": [
    "chi_squared_stat = (((observed_class-expected_class)**2)/expected_class).sum().sum()\n",
    "\n",
    "print(chi_squared_stat)"
   ]
  },
  {
   "cell_type": "code",
   "execution_count": 211,
   "metadata": {},
   "outputs": [
    {
     "name": "stdout",
     "output_type": "stream",
     "text": [
      "Critical value\n",
      "5.99146454711\n",
      "P value\n",
      "1.11022302463e-16\n"
     ]
    }
   ],
   "source": [
    "crit = stats.chi2.ppf(q = 0.95, # Find the critical value for 95% confidence*\n",
    "                      df = 2)   # *\n",
    "\n",
    "print(\"Critical value\")\n",
    "print(crit)\n",
    "\n",
    "p_value = 1 - stats.chi2.cdf(x=chi_squared_stat,  # Find the p-value\n",
    "                             df=8)\n",
    "print(\"P value\")\n",
    "print(p_value)"
   ]
  },
  {
   "cell_type": "markdown",
   "metadata": {},
   "source": [
    "The chi squared stat was much higher than the critical value therefore we reject the null hypothosis and state that class is closely related to survival."
   ]
  },
  {
   "cell_type": "markdown",
   "metadata": {},
   "source": [
    "Because all of my variables for sex, class, and age group was categorical and contained 30 or more entries per sub-category, I chose the Chi Squared test for independance of variables.  By far the most important top 3  variables related to survival are sex (by far the most related), class, and to a much lesser degree age group. Below, I will show the mean survival rates for each of the sub-groups of sex, class and age group and then display a bar graph to better understand."
   ]
  },
  {
   "cell_type": "code",
   "execution_count": 213,
   "metadata": {},
   "outputs": [
    {
     "data": {
      "text/html": [
       "<div>\n",
       "<table border=\"1\" class=\"dataframe\">\n",
       "  <thead>\n",
       "    <tr style=\"text-align: right;\">\n",
       "      <th></th>\n",
       "      <th></th>\n",
       "      <th></th>\n",
       "      <th>PassengerId</th>\n",
       "      <th>Survived</th>\n",
       "      <th>Age</th>\n",
       "      <th>SibSp</th>\n",
       "      <th>Parch</th>\n",
       "      <th>Fare</th>\n",
       "    </tr>\n",
       "    <tr>\n",
       "      <th>Sex</th>\n",
       "      <th>Pclass</th>\n",
       "      <th>Age_groups</th>\n",
       "      <th></th>\n",
       "      <th></th>\n",
       "      <th></th>\n",
       "      <th></th>\n",
       "      <th></th>\n",
       "      <th></th>\n",
       "    </tr>\n",
       "  </thead>\n",
       "  <tbody>\n",
       "    <tr>\n",
       "      <th rowspan=\"12\" valign=\"top\">female</th>\n",
       "      <th rowspan=\"4\" valign=\"top\">1</th>\n",
       "      <th>adults</th>\n",
       "      <td>487.55</td>\n",
       "      <td>0.97</td>\n",
       "      <td>34.30</td>\n",
       "      <td>0.58</td>\n",
       "      <td>0.47</td>\n",
       "      <td>108.89</td>\n",
       "    </tr>\n",
       "    <tr>\n",
       "      <th>child_teens</th>\n",
       "      <td>563.00</td>\n",
       "      <td>1.00</td>\n",
       "      <td>15.40</td>\n",
       "      <td>0.20</td>\n",
       "      <td>1.00</td>\n",
       "      <td>103.04</td>\n",
       "    </tr>\n",
       "    <tr>\n",
       "      <th>seniors</th>\n",
       "      <td>325.00</td>\n",
       "      <td>1.00</td>\n",
       "      <td>59.83</td>\n",
       "      <td>0.33</td>\n",
       "      <td>0.17</td>\n",
       "      <td>93.29</td>\n",
       "    </tr>\n",
       "    <tr>\n",
       "      <th>young_child</th>\n",
       "      <td>298.00</td>\n",
       "      <td>0.00</td>\n",
       "      <td>2.00</td>\n",
       "      <td>1.00</td>\n",
       "      <td>2.00</td>\n",
       "      <td>151.55</td>\n",
       "    </tr>\n",
       "    <tr>\n",
       "      <th rowspan=\"4\" valign=\"top\">2</th>\n",
       "      <th>adults</th>\n",
       "      <td>455.48</td>\n",
       "      <td>0.90</td>\n",
       "      <td>32.17</td>\n",
       "      <td>0.48</td>\n",
       "      <td>0.52</td>\n",
       "      <td>20.94</td>\n",
       "    </tr>\n",
       "    <tr>\n",
       "      <th>child_teens</th>\n",
       "      <td>231.67</td>\n",
       "      <td>1.00</td>\n",
       "      <td>11.67</td>\n",
       "      <td>0.33</td>\n",
       "      <td>1.00</td>\n",
       "      <td>25.27</td>\n",
       "    </tr>\n",
       "    <tr>\n",
       "      <th>seniors</th>\n",
       "      <td>124.00</td>\n",
       "      <td>1.00</td>\n",
       "      <td>32.50</td>\n",
       "      <td>0.00</td>\n",
       "      <td>0.00</td>\n",
       "      <td>13.00</td>\n",
       "    </tr>\n",
       "    <tr>\n",
       "      <th>young_child</th>\n",
       "      <td>465.86</td>\n",
       "      <td>1.00</td>\n",
       "      <td>4.43</td>\n",
       "      <td>0.86</td>\n",
       "      <td>1.43</td>\n",
       "      <td>30.94</td>\n",
       "    </tr>\n",
       "    <tr>\n",
       "      <th rowspan=\"4\" valign=\"top\">3</th>\n",
       "      <th>adults</th>\n",
       "      <td>407.04</td>\n",
       "      <td>0.42</td>\n",
       "      <td>27.82</td>\n",
       "      <td>0.49</td>\n",
       "      <td>0.93</td>\n",
       "      <td>14.46</td>\n",
       "    </tr>\n",
       "    <tr>\n",
       "      <th>child_teens</th>\n",
       "      <td>385.62</td>\n",
       "      <td>0.44</td>\n",
       "      <td>12.44</td>\n",
       "      <td>1.50</td>\n",
       "      <td>0.88</td>\n",
       "      <td>18.98</td>\n",
       "    </tr>\n",
       "    <tr>\n",
       "      <th>seniors</th>\n",
       "      <td>495.80</td>\n",
       "      <td>0.60</td>\n",
       "      <td>21.90</td>\n",
       "      <td>1.00</td>\n",
       "      <td>0.40</td>\n",
       "      <td>14.06</td>\n",
       "    </tr>\n",
       "    <tr>\n",
       "      <th>young_child</th>\n",
       "      <td>395.86</td>\n",
       "      <td>0.64</td>\n",
       "      <td>3.29</td>\n",
       "      <td>1.57</td>\n",
       "      <td>1.36</td>\n",
       "      <td>19.74</td>\n",
       "    </tr>\n",
       "    <tr>\n",
       "      <th rowspan=\"12\" valign=\"top\">male</th>\n",
       "      <th rowspan=\"4\" valign=\"top\">1</th>\n",
       "      <th>adults</th>\n",
       "      <td>447.58</td>\n",
       "      <td>0.43</td>\n",
       "      <td>37.98</td>\n",
       "      <td>0.41</td>\n",
       "      <td>0.23</td>\n",
       "      <td>72.51</td>\n",
       "    </tr>\n",
       "    <tr>\n",
       "      <th>child_teens</th>\n",
       "      <td>803.00</td>\n",
       "      <td>1.00</td>\n",
       "      <td>11.00</td>\n",
       "      <td>1.00</td>\n",
       "      <td>2.00</td>\n",
       "      <td>120.00</td>\n",
       "    </tr>\n",
       "    <tr>\n",
       "      <th>seniors</th>\n",
       "      <td>452.22</td>\n",
       "      <td>0.17</td>\n",
       "      <td>59.91</td>\n",
       "      <td>0.22</td>\n",
       "      <td>0.61</td>\n",
       "      <td>61.69</td>\n",
       "    </tr>\n",
       "    <tr>\n",
       "      <th>young_child</th>\n",
       "      <td>446.00</td>\n",
       "      <td>1.00</td>\n",
       "      <td>4.00</td>\n",
       "      <td>0.00</td>\n",
       "      <td>2.00</td>\n",
       "      <td>81.86</td>\n",
       "    </tr>\n",
       "    <tr>\n",
       "      <th rowspan=\"4\" valign=\"top\">2</th>\n",
       "      <th>adults</th>\n",
       "      <td>448.26</td>\n",
       "      <td>0.06</td>\n",
       "      <td>32.16</td>\n",
       "      <td>0.33</td>\n",
       "      <td>0.12</td>\n",
       "      <td>20.59</td>\n",
       "    </tr>\n",
       "    <tr>\n",
       "      <th>child_teens</th>\n",
       "      <td>728.00</td>\n",
       "      <td>0.33</td>\n",
       "      <td>13.33</td>\n",
       "      <td>0.33</td>\n",
       "      <td>0.33</td>\n",
       "      <td>24.42</td>\n",
       "    </tr>\n",
       "    <tr>\n",
       "      <th>seniors</th>\n",
       "      <td>413.50</td>\n",
       "      <td>0.40</td>\n",
       "      <td>38.83</td>\n",
       "      <td>0.40</td>\n",
       "      <td>0.70</td>\n",
       "      <td>20.23</td>\n",
       "    </tr>\n",
       "    <tr>\n",
       "      <th>young_child</th>\n",
       "      <td>391.00</td>\n",
       "      <td>1.00</td>\n",
       "      <td>2.00</td>\n",
       "      <td>1.00</td>\n",
       "      <td>1.20</td>\n",
       "      <td>29.35</td>\n",
       "    </tr>\n",
       "    <tr>\n",
       "      <th rowspan=\"4\" valign=\"top\">3</th>\n",
       "      <th>adults</th>\n",
       "      <td>465.87</td>\n",
       "      <td>0.14</td>\n",
       "      <td>28.39</td>\n",
       "      <td>0.18</td>\n",
       "      <td>0.10</td>\n",
       "      <td>10.06</td>\n",
       "    </tr>\n",
       "    <tr>\n",
       "      <th>child_teens</th>\n",
       "      <td>428.00</td>\n",
       "      <td>0.19</td>\n",
       "      <td>13.10</td>\n",
       "      <td>1.95</td>\n",
       "      <td>1.00</td>\n",
       "      <td>23.69</td>\n",
       "    </tr>\n",
       "    <tr>\n",
       "      <th>seniors</th>\n",
       "      <td>421.65</td>\n",
       "      <td>0.06</td>\n",
       "      <td>41.32</td>\n",
       "      <td>0.00</td>\n",
       "      <td>0.18</td>\n",
       "      <td>8.42</td>\n",
       "    </tr>\n",
       "    <tr>\n",
       "      <th>young_child</th>\n",
       "      <td>389.40</td>\n",
       "      <td>0.33</td>\n",
       "      <td>3.40</td>\n",
       "      <td>3.07</td>\n",
       "      <td>1.33</td>\n",
       "      <td>28.34</td>\n",
       "    </tr>\n",
       "  </tbody>\n",
       "</table>\n",
       "</div>"
      ],
      "text/plain": [
       "                           PassengerId  Survived    Age  SibSp  Parch    Fare\n",
       "Sex    Pclass Age_groups                                                     \n",
       "female 1      adults            487.55      0.97  34.30   0.58   0.47  108.89\n",
       "              child_teens       563.00      1.00  15.40   0.20   1.00  103.04\n",
       "              seniors           325.00      1.00  59.83   0.33   0.17   93.29\n",
       "              young_child       298.00      0.00   2.00   1.00   2.00  151.55\n",
       "       2      adults            455.48      0.90  32.17   0.48   0.52   20.94\n",
       "              child_teens       231.67      1.00  11.67   0.33   1.00   25.27\n",
       "              seniors           124.00      1.00  32.50   0.00   0.00   13.00\n",
       "              young_child       465.86      1.00   4.43   0.86   1.43   30.94\n",
       "       3      adults            407.04      0.42  27.82   0.49   0.93   14.46\n",
       "              child_teens       385.62      0.44  12.44   1.50   0.88   18.98\n",
       "              seniors           495.80      0.60  21.90   1.00   0.40   14.06\n",
       "              young_child       395.86      0.64   3.29   1.57   1.36   19.74\n",
       "male   1      adults            447.58      0.43  37.98   0.41   0.23   72.51\n",
       "              child_teens       803.00      1.00  11.00   1.00   2.00  120.00\n",
       "              seniors           452.22      0.17  59.91   0.22   0.61   61.69\n",
       "              young_child       446.00      1.00   4.00   0.00   2.00   81.86\n",
       "       2      adults            448.26      0.06  32.16   0.33   0.12   20.59\n",
       "              child_teens       728.00      0.33  13.33   0.33   0.33   24.42\n",
       "              seniors           413.50      0.40  38.83   0.40   0.70   20.23\n",
       "              young_child       391.00      1.00   2.00   1.00   1.20   29.35\n",
       "       3      adults            465.87      0.14  28.39   0.18   0.10   10.06\n",
       "              child_teens       428.00      0.19  13.10   1.95   1.00   23.69\n",
       "              seniors           421.65      0.06  41.32   0.00   0.18    8.42\n",
       "              young_child       389.40      0.33   3.40   3.07   1.33   28.34"
      ]
     },
     "execution_count": 213,
     "metadata": {},
     "output_type": "execute_result"
    }
   ],
   "source": [
    "titanic_df.groupby(['Sex','Pclass','Age_groups']).mean()"
   ]
  },
  {
   "cell_type": "markdown",
   "metadata": {},
   "source": [
    "Just by looking at the mean survival number we see that of first class females almost 100% survived except the young children. Just a guess, but maybe the first class children under 7 were with the baby sitters at the time.  We also see overall that 3rd class and males were had very very low survival.  Now lets look at some graphs:"
   ]
  },
  {
   "cell_type": "code",
   "execution_count": 229,
   "metadata": {},
   "outputs": [
    {
     "data": {
      "text/plain": [
       "<matplotlib.text.Text at 0x113281750>"
      ]
     },
     "execution_count": 229,
     "metadata": {},
     "output_type": "execute_result"
    },
    {
     "data": {
      "image/png": "[encoded data removed]",
      "text/plain": [
       "<matplotlib.figure.Figure at 0x112c47110>"
      ]
     },
     "metadata": {},
     "output_type": "display_data"
    }
   ],
   "source": [
    "titanic_df.groupby(['Sex','Pclass'])[['Survived']].mean().unstack().plot(kind='bar').set_ylabel('Count')\n",
    "                         "
   ]
  },
  {
   "cell_type": "markdown",
   "metadata": {},
   "source": [
    "The graph above takes in a third factor, sex and shows us that there were alot more 1st class ticket holders of both sexes that survived and that Females make up a much larger number of all survivors. "
   ]
  },
  {
   "cell_type": "code",
   "execution_count": 256,
   "metadata": {},
   "outputs": [
    {
     "data": {
      "text/plain": [
       "<seaborn.axisgrid.FacetGrid at 0x113b7b750>"
      ]
     },
     "execution_count": 256,
     "metadata": {},
     "output_type": "execute_result"
    },
    {
     "data": {
      "image/png": "[encoded data removed]",
      "text/plain": [
       "<matplotlib.figure.Figure at 0x113b7b790>"
      ]
     },
     "metadata": {},
     "output_type": "display_data"
    }
   ],
   "source": [
    "# getting a basic visual for the two indepenant variables Sex and class \n",
    "## had to export the csv file to the seaborn data file on my computer first\n",
    "\n",
    "titanic_df.to_csv('out.csv', sep=',')\n",
    "\n",
    "import seaborn as sns\n",
    "sns.set(style=\"whitegrid\")\n",
    "\n",
    "# Load the example Titanic dataset\n",
    "out = sns.load_dataset(\"out\")\n",
    "\n",
    "# Draw a nested barplot to show survival for class and sex\n",
    "g = sns.factorplot(x=\"Age_groups\", y=\"Survived\", hue=\"Sex\", data=out,\n",
    "                   size=6, kind=\"bar\", palette=\"muted\")\n",
    "g.despine(left=True)\n",
    "g.set_ylabels(\"survival probability\")"
   ]
  },
  {
   "cell_type": "markdown",
   "metadata": {},
   "source": [
    "The above graph shows that the rate of survival is larger for children of both sexes and women over all.\n",
    "\n",
    "Being a child of any kind had a higher survival rate than any other male group, but that being a woman who is over 15 is actually better than being a female child."
   ]
  },
  {
   "cell_type": "code",
   "execution_count": 231,
   "metadata": {},
   "outputs": [
    {
     "data": {
      "text/plain": [
       "<seaborn.axisgrid.FacetGrid at 0x1134fbcd0>"
      ]
     },
     "execution_count": 231,
     "metadata": {},
     "output_type": "execute_result"
    },
    {
     "data": {
      "image/png": "[encoded data removed]",
      "text/plain": [
       "<matplotlib.figure.Figure at 0x1134fbd10>"
      ]
     },
     "metadata": {},
     "output_type": "display_data"
    }
   ],
   "source": [
    "# getting a basic visual for the two indepenant variables Age group and class \n",
    "## had to export the csv file to the seaborn data file on my computer first\n",
    "\n",
    "titanic_df.to_csv('out.csv', sep=',')\n",
    "\n",
    "import seaborn as sns\n",
    "sns.set(style=\"whitegrid\")\n",
    "\n",
    "# Load the example Titanic dataset\n",
    "out = sns.load_dataset(\"out\")\n",
    "\n",
    "# Draw a nested barplot to show survival for class and sex\n",
    "g = sns.factorplot(x=\"Pclass\", y=\"Survived\", hue=\"Age_groups\", data=out,\n",
    "                   size=6, kind=\"bar\", palette=\"muted\")\n",
    "g.despine(left=True)\n",
    "g.set_ylabels(\"survival probability\")"
   ]
  },
  {
   "cell_type": "markdown",
   "metadata": {},
   "source": [
    "The above graph displays the survivor probability depending on age group and Pclass.  We can see that young children faired very well in both the 2 and 3rd class, but that the survival of young children in first class was very very low.  I am going to look at the counts to see if that category (1st class young children) had a small number.  This is an outlier and goes agains the general positive relationship between class and survival.  Over all, the graph supports the Chi squared tests and shows that if we are talking about survival related variables, Sex, Glass, and finally age group in that order are most closley related to survival."
   ]
  },
  {
   "cell_type": "code",
   "execution_count": 254,
   "metadata": {},
   "outputs": [
    {
     "data": {
      "text/html": [
       "<div>\n",
       "<table border=\"1\" class=\"dataframe\">\n",
       "  <thead>\n",
       "    <tr style=\"text-align: right;\">\n",
       "      <th></th>\n",
       "      <th></th>\n",
       "      <th>PassengerId</th>\n",
       "      <th>Survived</th>\n",
       "      <th>Name</th>\n",
       "      <th>Sex</th>\n",
       "      <th>Age</th>\n",
       "      <th>SibSp</th>\n",
       "      <th>Parch</th>\n",
       "      <th>Ticket</th>\n",
       "      <th>Fare</th>\n",
       "      <th>Cabin</th>\n",
       "      <th>Embarked</th>\n",
       "    </tr>\n",
       "    <tr>\n",
       "      <th>Age_groups</th>\n",
       "      <th>Pclass</th>\n",
       "      <th></th>\n",
       "      <th></th>\n",
       "      <th></th>\n",
       "      <th></th>\n",
       "      <th></th>\n",
       "      <th></th>\n",
       "      <th></th>\n",
       "      <th></th>\n",
       "      <th></th>\n",
       "      <th></th>\n",
       "      <th></th>\n",
       "    </tr>\n",
       "  </thead>\n",
       "  <tbody>\n",
       "    <tr>\n",
       "      <th rowspan=\"3\" valign=\"top\">adults</th>\n",
       "      <th>1</th>\n",
       "      <td>154</td>\n",
       "      <td>154</td>\n",
       "      <td>154</td>\n",
       "      <td>154</td>\n",
       "      <td>154</td>\n",
       "      <td>154</td>\n",
       "      <td>154</td>\n",
       "      <td>154</td>\n",
       "      <td>154</td>\n",
       "      <td>132</td>\n",
       "      <td>153</td>\n",
       "    </tr>\n",
       "    <tr>\n",
       "      <th>2</th>\n",
       "      <td>144</td>\n",
       "      <td>144</td>\n",
       "      <td>144</td>\n",
       "      <td>144</td>\n",
       "      <td>144</td>\n",
       "      <td>144</td>\n",
       "      <td>144</td>\n",
       "      <td>144</td>\n",
       "      <td>144</td>\n",
       "      <td>9</td>\n",
       "      <td>144</td>\n",
       "    </tr>\n",
       "    <tr>\n",
       "      <th>3</th>\n",
       "      <td>267</td>\n",
       "      <td>267</td>\n",
       "      <td>267</td>\n",
       "      <td>267</td>\n",
       "      <td>267</td>\n",
       "      <td>267</td>\n",
       "      <td>267</td>\n",
       "      <td>267</td>\n",
       "      <td>267</td>\n",
       "      <td>7</td>\n",
       "      <td>267</td>\n",
       "    </tr>\n",
       "    <tr>\n",
       "      <th rowspan=\"3\" valign=\"top\">child_teens</th>\n",
       "      <th>1</th>\n",
       "      <td>6</td>\n",
       "      <td>6</td>\n",
       "      <td>6</td>\n",
       "      <td>6</td>\n",
       "      <td>6</td>\n",
       "      <td>6</td>\n",
       "      <td>6</td>\n",
       "      <td>6</td>\n",
       "      <td>6</td>\n",
       "      <td>6</td>\n",
       "      <td>6</td>\n",
       "    </tr>\n",
       "    <tr>\n",
       "      <th>2</th>\n",
       "      <td>6</td>\n",
       "      <td>6</td>\n",
       "      <td>6</td>\n",
       "      <td>6</td>\n",
       "      <td>6</td>\n",
       "      <td>6</td>\n",
       "      <td>6</td>\n",
       "      <td>6</td>\n",
       "      <td>6</td>\n",
       "      <td>0</td>\n",
       "      <td>6</td>\n",
       "    </tr>\n",
       "    <tr>\n",
       "      <th>3</th>\n",
       "      <td>37</td>\n",
       "      <td>37</td>\n",
       "      <td>37</td>\n",
       "      <td>37</td>\n",
       "      <td>37</td>\n",
       "      <td>37</td>\n",
       "      <td>37</td>\n",
       "      <td>37</td>\n",
       "      <td>37</td>\n",
       "      <td>0</td>\n",
       "      <td>37</td>\n",
       "    </tr>\n",
       "    <tr>\n",
       "      <th rowspan=\"3\" valign=\"top\">seniors</th>\n",
       "      <th>1</th>\n",
       "      <td>24</td>\n",
       "      <td>24</td>\n",
       "      <td>24</td>\n",
       "      <td>24</td>\n",
       "      <td>24</td>\n",
       "      <td>24</td>\n",
       "      <td>24</td>\n",
       "      <td>24</td>\n",
       "      <td>24</td>\n",
       "      <td>20</td>\n",
       "      <td>23</td>\n",
       "    </tr>\n",
       "    <tr>\n",
       "      <th>2</th>\n",
       "      <td>11</td>\n",
       "      <td>11</td>\n",
       "      <td>11</td>\n",
       "      <td>11</td>\n",
       "      <td>11</td>\n",
       "      <td>11</td>\n",
       "      <td>11</td>\n",
       "      <td>11</td>\n",
       "      <td>11</td>\n",
       "      <td>2</td>\n",
       "      <td>11</td>\n",
       "    </tr>\n",
       "    <tr>\n",
       "      <th>3</th>\n",
       "      <td>22</td>\n",
       "      <td>22</td>\n",
       "      <td>22</td>\n",
       "      <td>22</td>\n",
       "      <td>22</td>\n",
       "      <td>22</td>\n",
       "      <td>22</td>\n",
       "      <td>22</td>\n",
       "      <td>22</td>\n",
       "      <td>0</td>\n",
       "      <td>22</td>\n",
       "    </tr>\n",
       "    <tr>\n",
       "      <th rowspan=\"3\" valign=\"top\">young_child</th>\n",
       "      <th>1</th>\n",
       "      <td>2</td>\n",
       "      <td>2</td>\n",
       "      <td>2</td>\n",
       "      <td>2</td>\n",
       "      <td>2</td>\n",
       "      <td>2</td>\n",
       "      <td>2</td>\n",
       "      <td>2</td>\n",
       "      <td>2</td>\n",
       "      <td>2</td>\n",
       "      <td>2</td>\n",
       "    </tr>\n",
       "    <tr>\n",
       "      <th>2</th>\n",
       "      <td>12</td>\n",
       "      <td>12</td>\n",
       "      <td>12</td>\n",
       "      <td>12</td>\n",
       "      <td>12</td>\n",
       "      <td>12</td>\n",
       "      <td>12</td>\n",
       "      <td>12</td>\n",
       "      <td>12</td>\n",
       "      <td>4</td>\n",
       "      <td>12</td>\n",
       "    </tr>\n",
       "    <tr>\n",
       "      <th>3</th>\n",
       "      <td>29</td>\n",
       "      <td>29</td>\n",
       "      <td>29</td>\n",
       "      <td>29</td>\n",
       "      <td>29</td>\n",
       "      <td>29</td>\n",
       "      <td>29</td>\n",
       "      <td>29</td>\n",
       "      <td>29</td>\n",
       "      <td>3</td>\n",
       "      <td>29</td>\n",
       "    </tr>\n",
       "  </tbody>\n",
       "</table>\n",
       "</div>"
      ],
      "text/plain": [
       "                    PassengerId  Survived  Name  Sex  Age  SibSp  Parch  \\\n",
       "Age_groups  Pclass                                                        \n",
       "adults      1               154       154   154  154  154    154    154   \n",
       "            2               144       144   144  144  144    144    144   \n",
       "            3               267       267   267  267  267    267    267   \n",
       "child_teens 1                 6         6     6    6    6      6      6   \n",
       "            2                 6         6     6    6    6      6      6   \n",
       "            3                37        37    37   37   37     37     37   \n",
       "seniors     1                24        24    24   24   24     24     24   \n",
       "            2                11        11    11   11   11     11     11   \n",
       "            3                22        22    22   22   22     22     22   \n",
       "young_child 1                 2         2     2    2    2      2      2   \n",
       "            2                12        12    12   12   12     12     12   \n",
       "            3                29        29    29   29   29     29     29   \n",
       "\n",
       "                    Ticket  Fare  Cabin  Embarked  \n",
       "Age_groups  Pclass                                 \n",
       "adults      1          154   154    132       153  \n",
       "            2          144   144      9       144  \n",
       "            3          267   267      7       267  \n",
       "child_teens 1            6     6      6         6  \n",
       "            2            6     6      0         6  \n",
       "            3           37    37      0        37  \n",
       "seniors     1           24    24     20        23  \n",
       "            2           11    11      2        11  \n",
       "            3           22    22      0        22  \n",
       "young_child 1            2     2      2         2  \n",
       "            2           12    12      4        12  \n",
       "            3           29    29      3        29  "
      ]
     },
     "execution_count": 254,
     "metadata": {},
     "output_type": "execute_result"
    }
   ],
   "source": [
    "titanic_df.groupby(['Age_groups','Pclass']).count()"
   ]
  },
  {
   "cell_type": "markdown",
   "metadata": {},
   "source": [
    "Looking above, sure enough, with only two data points in the young child first class category, it is easy to see how the graph above could be misleading when talking about the survival relationship to this sub category."
   ]
  },
  {
   "cell_type": "markdown",
   "metadata": {},
   "source": [
    "Because our critical values for the chi squared test for independance of varibles, we see that sex, class, and age group observed statistical values are all well above the critical values for a one tailed 95% confidence interval.\n",
    "\n",
    "The null hypothosis is that sex and class and age group will have no effect on survival\n",
    "The alternative hypothosis is that sex, class, and age group will have a significant relationship to survival.\n",
    "\n",
    "Therefore we reject the null hypothesis and confirm the altenative hypothosis.\n",
    "\n",
    "We can futher infer based on the visualization of the data that of sex, female was more correlated to survival.  And, of class, higher class was related to higher survival. And, we can see that 1st and 2nd class ticket holders were more likely to survive than 3rd class, but the difference between survival rates of 1st and 2nd class ticket holders did not appear very different.  Finally, the rate of survival among the age groups appears highest for young children, and adults, but lower for children-teens and seniors."
   ]
  }
 ],
 "metadata": {
  "kernelspec": {
   "display_name": "Python 2",
   "language": "python",
   "name": "python2"
  },
  "language_info": {
   "codemirror_mode": {
    "name": "ipython",
    "version": 2
   },
   "file_extension": ".py",
   "mimetype": "text/x-python",
   "name": "python",
   "nbconvert_exporter": "python",
   "pygments_lexer": "ipython2",
   "version": "2.7.13"
  }
 },
 "nbformat": 4,
 "nbformat_minor": 2
}
